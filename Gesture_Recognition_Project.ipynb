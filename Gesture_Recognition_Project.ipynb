{
  "cells": [
    {
      "cell_type": "markdown",
      "metadata": {
        "id": "P5CA2HR5uWrT"
      },
      "source": [
        "# Gesture Recognition\n",
        "In this group project, you are going to build a 3D Conv model that will be able to predict the 5 gestures correctly. Please import the following libraries to get started."
      ]
    },
    {
      "cell_type": "code",
      "execution_count": null,
      "metadata": {
        "id": "wXirmLqLuWrU"
      },
      "outputs": [],
      "source": [
        "import numpy as np\n",
        "import glob\n",
        "import os\n",
        "from imageio import imread\n",
        "from skimage.transform import resize\n",
        "import datetime\n",
        "import os\n",
        "import keras\n",
        "import matplotlib.pyplot as plt\n",
        "from tensorflow.keras.callbacks import ModelCheckpoint, ReduceLROnPlateau, EarlyStopping\n"
      ]
    },
    {
      "cell_type": "markdown",
      "metadata": {
        "id": "4wMvua4AuWrV"
      },
      "source": [
        "We set the random seed so that the results don't vary drastically."
      ]
    },
    {
      "cell_type": "code",
      "execution_count": null,
      "metadata": {
        "id": "h2bHEfbIuWrV"
      },
      "outputs": [],
      "source": [
        "np.random.seed(30)\n",
        "import random as rn\n",
        "rn.seed(30)\n",
        "from keras import backend as K\n",
        "import tensorflow as tf\n",
        "tf.random.set_seed(30)"
      ]
    },
    {
      "cell_type": "markdown",
      "metadata": {
        "id": "PgQ8A--cuWrV"
      },
      "source": [
        "In this block, you read the folder names for training and validation. You also set the `batch_size` here. Note that you set the batch size in such a way that you are able to use the GPU in full capacity. You keep increasing the batch size until the machine throws an error."
      ]
    },
    {
      "cell_type": "code",
      "execution_count": null,
      "metadata": {
        "id": "r-ACWWZZSp2S"
      },
      "outputs": [],
      "source": [
        "from google.colab import drive\n",
        "drive.mount('/content/drive')"
      ]
    },
    {
      "cell_type": "code",
      "execution_count": null,
      "metadata": {
        "id": "AsS9equruWrV"
      },
      "outputs": [],
      "source": [
        "train_doc = np.random.permutation(open('/content/drive/MyDrive/upgrad/neural_data/project_data/train.csv').readlines())\n",
        "val_doc = np.random.permutation(open('/content/drive/MyDrive/upgrad/neural_data/project_data/val.csv').readlines())\n",
        "batch_size = 10 #experiment with the batch size"
      ]
    },
    {
      "cell_type": "code",
      "execution_count": null,
      "metadata": {
        "colab": {
          "base_uri": "https://localhost:8080/"
        },
        "id": "Gc5cvxQhrt2n",
        "outputId": "0531b1d8-c8b2-43d1-aeb7-4de08cd2dc55"
      },
      "outputs": [
        {
          "output_type": "stream",
          "name": "stderr",
          "text": [
            "<ipython-input-39-2843679894bc>:6: DeprecationWarning: Starting with ImageIO v3 the behavior of this function will switch to that of iio.v3.imread. To keep the current behavior (and make this warning disappear) use `import imageio.v2 as imageio` or call `imageio.v2.imread` directly.\n",
            "  img = imread(path[0])\n"
          ]
        },
        {
          "output_type": "stream",
          "name": "stdout",
          "text": [
            "Total images : 663\n",
            "Image dimensions in training set : {(120, 160, 3), (360, 360, 3)}\n"
          ]
        }
      ],
      "source": [
        "# Check for possible image dimensions\n",
        "dimensions = []\n",
        "for i in range(len(train_doc)):\n",
        "  path = os.path.join('/content/drive/MyDrive/upgrad/neural_data/project_data/train', train_doc[i].split(';')[0], '*')\n",
        "  path = glob.glob(path)\n",
        "  img = imread(path[0])\n",
        "  dimensions.append(img.shape)\n",
        "# Extract unique values with set function\n",
        "unique_dimensions = set(dimensions)\n",
        "print(\"Total images : \" +  str(len(dimensions)))\n",
        "print(\"Image dimensions in training set : {}\".format(unique_dimensions))"
      ]
    },
    {
      "cell_type": "markdown",
      "metadata": {
        "id": "yGFnel8Qs-VB"
      },
      "source": [
        "### Conclusion\n",
        "\n",
        "We have 663 images and possible widths are : 120 & 360, whereas possible heights are : 160 & 360."
      ]
    },
    {
      "cell_type": "markdown",
      "metadata": {
        "id": "n8PJDb3UuWrW"
      },
      "source": [
        "## Generator\n",
        "This is one of the most important part of the code. The overall structure of the generator has been given. In the generator, you are going to preprocess the images as you have images of 2 different dimensions as well as create a batch of video frames. You have to experiment with `img_idx`, `y`,`z` and normalization such that you get high accuracy."
      ]
    },
    {
      "cell_type": "code",
      "execution_count": null,
      "metadata": {
        "id": "JqqKrR7yuWrW"
      },
      "outputs": [],
      "source": [
        "IMG_SIZE = 120\n",
        "CHANNELS = 3\n",
        "def generator(source_path, folder_list, batch_size):\n",
        "    print( 'Source path = ', source_path, '; batch size =', batch_size)\n",
        "    img_idx = list(range(0,30,2))#create a list of image numbers you want to use for a particular video\n",
        "    print(len(img_idx))\n",
        "    orig_batch_size = batch_size\n",
        "    while True:\n",
        "        t = np.random.permutation(folder_list)\n",
        "        batch_size = orig_batch_size\n",
        "        if(len(folder_list)%batch_size)==0:\n",
        "            num_batches = int(len(folder_list)/batch_size)# calculate the number of batches\n",
        "        else:\n",
        "            num_batches = int((len(folder_list)//batch_size) + 1)# calculate the number of batches\n",
        "        for batch in range(num_batches): # we iterate over the number of batches\n",
        "            if(batch==num_batches-1) and (len(folder_list)%batch_size)!=0:\n",
        "                batch_size =  int(len(folder_list)%batch_size)\n",
        "                print('for final batch, size is ',batch_size)\n",
        "            batch_data = np.zeros((batch_size,len(img_idx),IMG_SIZE,IMG_SIZE,CHANNELS)) # x is the number of images you use for each video, (y,z) is the final size of the input images and 3 is the number of channels RGB\n",
        "            batch_labels = np.zeros((batch_size,5)) # batch_labels is the one hot representation of the output\n",
        "            act_batch_data = np.zeros((batch_size,len(img_idx),100352))\n",
        "            for folder in range(batch_size): # iterate over the batch_size\n",
        "                imgs = os.listdir(source_path+'/'+ t[folder + (batch*batch_size)].split(';')[0]) # read all the images in the folder\n",
        "                for idx,item in enumerate(img_idx): #  Iterate iver the frames/images of a folder to read them in\n",
        "                    image = imread(source_path+'/'+ t[folder + (batch*batch_size)].strip().split(';')[0]+'/'+imgs[item])\n",
        "                    image = resize(image, (IMG_SIZE, IMG_SIZE))\n",
        "                    batch_data[folder,idx,:,:,0] = (image[:,:,0] - np.mean(image[:,:,0]))/np.std(image[:,:,0])\n",
        "                    batch_data[folder,idx,:,:,1] = (image[:,:,1] - np.mean(image[:,:,1]))/np.std(image[:,:,1])\n",
        "                    batch_data[folder,idx,:,:,2] = (image[:,:,2] - np.mean(image[:,:,2]))/np.std(image[:,:,2])\n",
        "\n",
        "                batch_labels[folder, int(t[folder + (batch*batch_size)].strip().split(';')[2])] = 1\n",
        "\n",
        "                #act_batch_data[folder] = model.predict(batch_data[folder])\n",
        "            #print('yielding batch now')\n",
        "            yield batch_data, batch_labels #you yield the batch_data and the batch_labels, remember what does yield do\n",
        "\n",
        "\n",
        "        # write the code for the remaining data points which are left after full batches"
      ]
    },
    {
      "cell_type": "markdown",
      "metadata": {
        "id": "avkhxVEduWrW"
      },
      "source": [
        "Note here that a video is represented above in the generator as (number of images, height, width, number of channels). Take this into consideration while creating the model architecture."
      ]
    },
    {
      "cell_type": "code",
      "execution_count": null,
      "metadata": {
        "id": "HIQQSRnUuWrW",
        "colab": {
          "base_uri": "https://localhost:8080/"
        },
        "outputId": "04b31aee-4255-460f-8f1b-b892e0bf355b"
      },
      "outputs": [
        {
          "output_type": "stream",
          "name": "stdout",
          "text": [
            "# training sequences = 663\n",
            "# validation sequences = 100\n",
            "# epochs = 10\n",
            "# classes = 5\n"
          ]
        }
      ],
      "source": [
        "curr_dt_time = datetime.datetime.now()\n",
        "train_path = '/content/drive/MyDrive/upgrad/neural_data/project_data/train'\n",
        "val_path = '/content/drive/MyDrive/upgrad/neural_data/project_data/val'\n",
        "num_train_sequences = len(train_doc)\n",
        "print('# training sequences =', num_train_sequences)\n",
        "num_val_sequences = len(val_doc)\n",
        "print('# validation sequences =', num_val_sequences)\n",
        "num_epochs = 10 # choose the number of epochs\n",
        "print ('# epochs =', num_epochs)\n",
        "\n",
        "num_classes = 5\n",
        "print('# classes =', num_classes)"
      ]
    },
    {
      "cell_type": "markdown",
      "metadata": {
        "id": "okBu1Z46uWrW"
      },
      "source": [
        "## Model\n",
        "Here you make the model using different functionalities that Keras provides. Remember to use `Conv3D` and `MaxPooling3D` and not `Conv2D` and `Maxpooling2D` for a 3D convolution model. You would want to use `TimeDistributed` while building a Conv2D + RNN model. Also remember that the last layer is the softmax. Design the network in such a way that the model is able to give good accuracy on the least number of parameters so that it can fit in the memory of the webcam."
      ]
    },
    {
      "cell_type": "code",
      "execution_count": null,
      "metadata": {
        "id": "9jGz_H0WuWrW",
        "colab": {
          "base_uri": "https://localhost:8080/"
        },
        "outputId": "a22c1356-4f23-423c-d270-b4dbb3166c27"
      },
      "outputs": [
        {
          "output_type": "stream",
          "name": "stdout",
          "text": [
            "Model: \"model_8\"\n",
            "_________________________________________________________________\n",
            " Layer (type)                Output Shape              Param #   \n",
            "=================================================================\n",
            " input (InputLayer)          [(None, 15, 120, 120, 3   0         \n",
            "                             )]                                  \n",
            "                                                                 \n",
            " Vgg16TimeDistribution (Tim  (None, 15, 3, 3, 512)     14714688  \n",
            " eDistributed)                                                   \n",
            "                                                                 \n",
            " time_distributed_8 (TimeDi  (None, 15, 4608)          0         \n",
            " stributed)                                                      \n",
            "                                                                 \n",
            " gru_8 (GRU)                 (None, 500)               7665000   \n",
            "                                                                 \n",
            " dense_8 (Dense)             (None, 5)                 2505      \n",
            "                                                                 \n",
            "=================================================================\n",
            "Total params: 22382193 (85.38 MB)\n",
            "Trainable params: 22382193 (85.38 MB)\n",
            "Non-trainable params: 0 (0.00 Byte)\n",
            "_________________________________________________________________\n"
          ]
        }
      ],
      "source": [
        "from keras.models import Sequential, Model\n",
        "from keras.layers import Dense, GRU, Flatten, TimeDistributed, Flatten, BatchNormalization, Activation, Input, Dropout\n",
        "from keras.layers import Conv3D, MaxPooling3D\n",
        "from keras.callbacks import ModelCheckpoint, ReduceLROnPlateau\n",
        "from keras import optimizers, applications\n",
        "\n",
        "#write your model here\n",
        "STEPS = 15\n",
        "inputs = Input(shape=(STEPS,IMG_SIZE,IMG_SIZE,CHANNELS),name='input')\n",
        "output_1 = TimeDistributed(keras.applications.vgg16.VGG16(weights='imagenet',include_top=False,input_shape=(IMG_SIZE,IMG_SIZE,CHANNELS)),name='Vgg16TimeDistribution')(inputs)\n",
        "output_2 = TimeDistributed(Flatten())(output_1)\n",
        "output_3 = GRU(500,return_sequences=False)(output_2)\n",
        "predictions = Dense(5, activation='softmax')(output_3)\n",
        "\n",
        "model = Model([inputs],predictions)\n",
        "model.summary()\n",
        "\n",
        "\n",
        "\n",
        "\n",
        "\n",
        "\n",
        "\n",
        "\n",
        "\n",
        "\n",
        "\n"
      ]
    },
    {
      "cell_type": "markdown",
      "metadata": {
        "id": "wF44kVr7uWrX"
      },
      "source": [
        "Now that you have written the model, the next step is to `compile` the model. When you print the `summary` of the model, you'll see the total number of parameters you have to train."
      ]
    },
    {
      "cell_type": "code",
      "execution_count": null,
      "metadata": {
        "id": "13Ttg6zqwcrG"
      },
      "outputs": [],
      "source": [
        "for layer in model.layers:\n",
        "    if layer.name == 'Vgg16TimeDistribution':\n",
        "        layer.trainable = False"
      ]
    },
    {
      "cell_type": "code",
      "execution_count": null,
      "metadata": {
        "id": "4IQypwiquWrX",
        "scrolled": true,
        "colab": {
          "base_uri": "https://localhost:8080/"
        },
        "outputId": "9196df49-9570-47a5-a8eb-7c53c18c244f"
      },
      "outputs": [
        {
          "output_type": "stream",
          "name": "stdout",
          "text": [
            "Model: \"model_8\"\n",
            "_________________________________________________________________\n",
            " Layer (type)                Output Shape              Param #   \n",
            "=================================================================\n",
            " input (InputLayer)          [(None, 15, 120, 120, 3   0         \n",
            "                             )]                                  \n",
            "                                                                 \n",
            " Vgg16TimeDistribution (Tim  (None, 15, 3, 3, 512)     14714688  \n",
            " eDistributed)                                                   \n",
            "                                                                 \n",
            " time_distributed_8 (TimeDi  (None, 15, 4608)          0         \n",
            " stributed)                                                      \n",
            "                                                                 \n",
            " gru_8 (GRU)                 (None, 500)               7665000   \n",
            "                                                                 \n",
            " dense_8 (Dense)             (None, 5)                 2505      \n",
            "                                                                 \n",
            "=================================================================\n",
            "Total params: 22382193 (85.38 MB)\n",
            "Trainable params: 7667505 (29.25 MB)\n",
            "Non-trainable params: 14714688 (56.13 MB)\n",
            "_________________________________________________________________\n",
            "None\n"
          ]
        }
      ],
      "source": [
        "optimiser = optimizers.Adam()\n",
        "model.compile(optimizer=optimiser, loss='categorical_crossentropy', metrics=['categorical_accuracy'])\n",
        "print (model.summary())"
      ]
    },
    {
      "cell_type": "markdown",
      "metadata": {
        "id": "qOn22CIvuWrX"
      },
      "source": [
        "Let us create the `train_generator` and the `val_generator` which will be used in `.fit_generator`."
      ]
    },
    {
      "cell_type": "code",
      "execution_count": null,
      "metadata": {
        "id": "fhfzV2iOuWrX"
      },
      "outputs": [],
      "source": [
        "train_generator = generator(train_path, train_doc, batch_size)\n",
        "val_generator = generator(val_path, val_doc, batch_size)"
      ]
    },
    {
      "cell_type": "code",
      "execution_count": null,
      "metadata": {
        "id": "I06dvLcquWrX",
        "colab": {
          "base_uri": "https://localhost:8080/"
        },
        "outputId": "56e23583-8dc3-47d5-d6ad-00753549f77b"
      },
      "outputs": [
        {
          "output_type": "stream",
          "name": "stderr",
          "text": [
            "WARNING:tensorflow:`period` argument is deprecated. Please use `save_freq` to specify the frequency in number of batches seen.\n"
          ]
        }
      ],
      "source": [
        "model_name = 'model_init' + '_' + str(curr_dt_time).replace(' ','').replace(':','_') + '/'\n",
        "\n",
        "if not os.path.exists(model_name):\n",
        "    os.mkdir(model_name)\n",
        "\n",
        "filepath = model_name + 'model-{epoch:05d}-{loss:.5f}-{categorical_accuracy:.5f}-{val_loss:.5f}-{val_categorical_accuracy:.5f}.h5'\n",
        "\n",
        "checkpoint = ModelCheckpoint(filepath, monitor='val_loss', verbose=1, save_best_only=False, save_weights_only=False, mode='auto', period=1)\n",
        "\n",
        "LR = ReduceLROnPlateau(monitor='val_loss', factor=0.2, patience=5, min_lr=0.01)\n",
        "callbacks_list = [checkpoint, LR]"
      ]
    },
    {
      "cell_type": "markdown",
      "metadata": {
        "id": "FgyigLHPuWrX"
      },
      "source": [
        "The `steps_per_epoch` and `validation_steps` are used by `fit_generator` to decide the number of next() calls it need to make."
      ]
    },
    {
      "cell_type": "code",
      "execution_count": null,
      "metadata": {
        "id": "q2uF6X0iuWrX",
        "colab": {
          "base_uri": "https://localhost:8080/"
        },
        "outputId": "c486474e-b65d-411a-b768-95d7f4f3852e"
      },
      "outputs": [
        {
          "output_type": "stream",
          "name": "stdout",
          "text": [
            "num_train_sequences 663\n",
            "num_val_sequences 100\n",
            "batch size 13\n",
            "steps_per_epoch 51\n",
            "validation_steps 8\n"
          ]
        }
      ],
      "source": [
        "print('num_train_sequences',len(train_doc))\n",
        "print('num_val_sequences',len(val_doc))\n",
        "print('batch size',batch_size)\n",
        "if (num_train_sequences%batch_size) == 0:\n",
        "    steps_per_epoch = int(num_train_sequences/batch_size)\n",
        "else:\n",
        "    steps_per_epoch = (num_train_sequences//batch_size) + 1\n",
        "\n",
        "if (num_val_sequences%batch_size) == 0:\n",
        "    validation_steps = int(num_val_sequences/batch_size)\n",
        "else:\n",
        "    validation_steps = (num_val_sequences//batch_size) + 1\n",
        "print('steps_per_epoch',steps_per_epoch)\n",
        "print('validation_steps',validation_steps)"
      ]
    },
    {
      "cell_type": "markdown",
      "metadata": {
        "id": "6EMym4wLuWrX"
      },
      "source": [
        "Let us now fit the model. This will start training the model and with the help of the checkpoints, you'll be able to save the model at the end of each epoch."
      ]
    },
    {
      "cell_type": "code",
      "execution_count": null,
      "metadata": {
        "id": "1FPMWb-EuWrX",
        "colab": {
          "base_uri": "https://localhost:8080/"
        },
        "outputId": "63d07f33-bb3e-4f43-a77e-bbed3e9238f3"
      },
      "outputs": [
        {
          "output_type": "stream",
          "name": "stdout",
          "text": [
            "Source path =  /content/drive/MyDrive/upgrad/neural_data/project_data/train ; batch size = 13\n",
            "15\n"
          ]
        },
        {
          "output_type": "stream",
          "name": "stderr",
          "text": [
            "<ipython-input-89-5f0324ed02b3>:25: DeprecationWarning: Starting with ImageIO v3 the behavior of this function will switch to that of iio.v3.imread. To keep the current behavior (and make this warning disappear) use `import imageio.v2 as imageio` or call `imageio.v2.imread` directly.\n",
            "  image = imread(source_path+'/'+ t[folder + (batch*batch_size)].strip().split(';')[0]+'/'+imgs[item])\n"
          ]
        },
        {
          "output_type": "stream",
          "name": "stdout",
          "text": [
            "Epoch 1/10\n",
            "Source path =  /content/drive/MyDrive/upgrad/neural_data/project_data/val ; batch size = 13\n",
            "15\n",
            "for final batch, size is  9\n",
            "\n",
            "Epoch 1: saving model to model_init_2024-06-0523_21_43.156257/model-00001-1.40424-0.57466-0.65446-0.76000.h5\n",
            "Epoch 2/10\n",
            "for final batch, size is  9\n",
            "\n",
            "Epoch 2: saving model to model_init_2024-06-0523_21_43.156257/model-00002-0.21791-0.94118-0.53154-0.80000.h5\n",
            "Epoch 3/10\n",
            "for final batch, size is  9\n",
            "\n",
            "Epoch 3: saving model to model_init_2024-06-0523_21_43.156257/model-00003-0.05289-0.99095-0.43717-0.78000.h5\n",
            "Epoch 4/10\n",
            "for final batch, size is  9\n",
            "\n",
            "Epoch 4: saving model to model_init_2024-06-0523_21_43.156257/model-00004-0.01230-1.00000-0.52018-0.76000.h5\n",
            "Epoch 5/10\n",
            "for final batch, size is  9\n",
            "\n",
            "Epoch 5: saving model to model_init_2024-06-0523_21_43.156257/model-00005-0.00536-1.00000-0.47947-0.82000.h5\n",
            "Epoch 6/10\n",
            "for final batch, size is  9\n",
            "\n",
            "Epoch 6: saving model to model_init_2024-06-0523_21_43.156257/model-00006-0.00322-1.00000-0.47091-0.78000.h5\n",
            "Epoch 7/10\n",
            "for final batch, size is  9\n",
            "\n",
            "Epoch 7: saving model to model_init_2024-06-0523_21_43.156257/model-00007-0.00215-1.00000-0.49136-0.79000.h5\n",
            "Epoch 8/10\n",
            "for final batch, size is  9\n",
            "for final batch, size is  9\n",
            "\n",
            "Epoch 8: saving model to model_init_2024-06-0523_21_43.156257/model-00008-0.00167-1.00000-0.50967-0.78000.h5\n",
            "Epoch 9/10\n",
            "for final batch, size is  9\n",
            "\n",
            "Epoch 9: saving model to model_init_2024-06-0523_21_43.156257/model-00009-0.00133-1.00000-0.51196-0.77000.h5\n",
            "Epoch 10/10\n",
            "for final batch, size is  9\n",
            "\n",
            "Epoch 10: saving model to model_init_2024-06-0523_21_43.156257/model-00010-0.00111-1.00000-0.55714-0.76000.h5\n"
          ]
        }
      ],
      "source": [
        "history = model.fit(train_generator, steps_per_epoch=steps_per_epoch, epochs=10, verbose=5,\n",
        "                    callbacks=callbacks_list, validation_data=val_generator,\n",
        "                    validation_steps=validation_steps, class_weight=None, workers=1)"
      ]
    },
    {
      "cell_type": "code",
      "execution_count": null,
      "metadata": {
        "id": "yPKgMn31uWrX",
        "colab": {
          "base_uri": "https://localhost:8080/",
          "height": 452
        },
        "outputId": "f9bfa6af-bd0e-490d-92ce-bb834fee54eb"
      },
      "outputs": [
        {
          "output_type": "display_data",
          "data": {
            "text/plain": [
              "<Figure size 640x480 with 1 Axes>"
            ],
            "image/png": "[encoded data removed]"
          },
          "metadata": {}
        }
      ],
      "source": [
        "plt.figure()\n",
        "plt.title('Training vs Validation Loss')\n",
        "plt.plot(range(0,10),model.history.history['val_loss'],label='validation_loss')\n",
        "plt.plot(range(0,10),model.history.history['loss'],label='training_loss')\n",
        "plt.legend()\n",
        "plt.show()"
      ]
    },
    {
      "cell_type": "code",
      "source": [
        "plt.figure()\n",
        "plt.title('Training vs Validation Accuracy')\n",
        "plt.plot(range(0,10),model.history.history['val_categorical_accuracy'],label='validation_accuracy')\n",
        "plt.plot(range(0,10),model.history.history['categorical_accuracy'],label='training_accuracy')\n",
        "plt.legend()\n",
        "plt.show()"
      ],
      "metadata": {
        "colab": {
          "base_uri": "https://localhost:8080/",
          "height": 452
        },
        "id": "BGh7C3_sFse6",
        "outputId": "0a00dbda-0a9b-44a3-fcb8-15e4713a2b6c"
      },
      "execution_count": null,
      "outputs": [
        {
          "output_type": "display_data",
          "data": {
            "text/plain": [
              "<Figure size 640x480 with 1 Axes>"
            ],
            "image/png": "[encoded data removed]"
          },
          "metadata": {}
        }
      ]
    },
    {
      "cell_type": "code",
      "source": [
        "#Model Optimization\n",
        "STEPS = 15\n",
        "inputs = Input(shape=(STEPS,IMG_SIZE,IMG_SIZE,CHANNELS),name='input')\n",
        "output_1 = TimeDistributed(keras.applications.vgg16.VGG16(weights='imagenet',include_top=False,input_shape=(IMG_SIZE,IMG_SIZE,CHANNELS)),name='Vgg16TimeDistribution')(inputs)\n",
        "output_2 = TimeDistributed(keras.layers.Dropout(0.9))(output_1)\n",
        "output_3 = TimeDistributed(keras.layers.BatchNormalization())(output_2)\n",
        "output_4 = TimeDistributed(Flatten())(output_3)\n",
        "output_5 = GRU(300,return_sequences=False)(output_4)\n",
        "predictions = Dense(5, activation='softmax')(output_5)\n",
        "\n",
        "model_2 = Model([inputs],predictions)\n",
        "model_2.summary()"
      ],
      "metadata": {
        "colab": {
          "base_uri": "https://localhost:8080/"
        },
        "id": "LyiO__LvFscB",
        "outputId": "66139718-a4aa-4552-8567-17c066b121c1"
      },
      "execution_count": null,
      "outputs": [
        {
          "output_type": "stream",
          "name": "stdout",
          "text": [
            "Model: \"model_9\"\n",
            "_________________________________________________________________\n",
            " Layer (type)                Output Shape              Param #   \n",
            "=================================================================\n",
            " input (InputLayer)          [(None, 15, 120, 120, 3   0         \n",
            "                             )]                                  \n",
            "                                                                 \n",
            " Vgg16TimeDistribution (Tim  (None, 15, 3, 3, 512)     14714688  \n",
            " eDistributed)                                                   \n",
            "                                                                 \n",
            " time_distributed_9 (TimeDi  (None, 15, 3, 3, 512)     0         \n",
            " stributed)                                                      \n",
            "                                                                 \n",
            " time_distributed_10 (TimeD  (None, 15, 3, 3, 512)     2048      \n",
            " istributed)                                                     \n",
            "                                                                 \n",
            " time_distributed_11 (TimeD  (None, 15, 4608)          0         \n",
            " istributed)                                                     \n",
            "                                                                 \n",
            " gru_9 (GRU)                 (None, 300)               4419000   \n",
            "                                                                 \n",
            " dense_9 (Dense)             (None, 5)                 1505      \n",
            "                                                                 \n",
            "=================================================================\n",
            "Total params: 19137241 (73.00 MB)\n",
            "Trainable params: 19136217 (73.00 MB)\n",
            "Non-trainable params: 1024 (4.00 KB)\n",
            "_________________________________________________________________\n"
          ]
        }
      ]
    },
    {
      "cell_type": "code",
      "source": [
        "for layer in model_2.layers:\n",
        "    if layer.name == 'Vgg16TimeDistribution':\n",
        "        layer.trainable = False"
      ],
      "metadata": {
        "id": "Wa-RZ7zzFsZE"
      },
      "execution_count": null,
      "outputs": []
    },
    {
      "cell_type": "code",
      "source": [
        "model_2.summary()"
      ],
      "metadata": {
        "colab": {
          "base_uri": "https://localhost:8080/"
        },
        "id": "_W6a9l3QFsWB",
        "outputId": "da5a6ecb-af51-4c5a-fc9a-57d09de163ed"
      },
      "execution_count": null,
      "outputs": [
        {
          "output_type": "stream",
          "name": "stdout",
          "text": [
            "Model: \"model_9\"\n",
            "_________________________________________________________________\n",
            " Layer (type)                Output Shape              Param #   \n",
            "=================================================================\n",
            " input (InputLayer)          [(None, 15, 120, 120, 3   0         \n",
            "                             )]                                  \n",
            "                                                                 \n",
            " Vgg16TimeDistribution (Tim  (None, 15, 3, 3, 512)     14714688  \n",
            " eDistributed)                                                   \n",
            "                                                                 \n",
            " time_distributed_9 (TimeDi  (None, 15, 3, 3, 512)     0         \n",
            " stributed)                                                      \n",
            "                                                                 \n",
            " time_distributed_10 (TimeD  (None, 15, 3, 3, 512)     2048      \n",
            " istributed)                                                     \n",
            "                                                                 \n",
            " time_distributed_11 (TimeD  (None, 15, 4608)          0         \n",
            " istributed)                                                     \n",
            "                                                                 \n",
            " gru_9 (GRU)                 (None, 300)               4419000   \n",
            "                                                                 \n",
            " dense_9 (Dense)             (None, 5)                 1505      \n",
            "                                                                 \n",
            "=================================================================\n",
            "Total params: 19137241 (73.00 MB)\n",
            "Trainable params: 4421529 (16.87 MB)\n",
            "Non-trainable params: 14715712 (56.14 MB)\n",
            "_________________________________________________________________\n"
          ]
        }
      ]
    },
    {
      "cell_type": "code",
      "source": [
        "optimiser = keras.optimizers.Adam()#write your optimizer\n",
        "model_2.compile(optimizer=optimiser, loss='categorical_crossentropy', metrics=['categorical_accuracy'])"
      ],
      "metadata": {
        "id": "GG90wIP9FsS8"
      },
      "execution_count": null,
      "outputs": []
    },
    {
      "cell_type": "code",
      "source": [
        "model_name = 'model2_init' + '_' + str(curr_dt_time).replace(' ','').replace(':','_') + '/'\n",
        "\n",
        "if not os.path.exists(model_name):\n",
        "    os.mkdir(model_name)\n",
        "\n",
        "filepath = model_name + 'model-{epoch:05d}-{loss:.5f}-{categorical_accuracy:.5f}-{val_loss:.5f}-{val_categorical_accuracy:.5f}.h5'\n",
        "\n",
        "checkpoint = ModelCheckpoint(filepath, monitor='val_loss', verbose=5, save_best_only=True, save_weights_only=True, mode='auto', period=1)\n",
        "\n",
        "LR = ReduceLROnPlateau(monitor='val_loss', factor=0.2,\n",
        "                              patience=2)\n",
        "\n",
        "callbacks_list = [checkpoint, LR]"
      ],
      "metadata": {
        "colab": {
          "base_uri": "https://localhost:8080/"
        },
        "id": "QGByFN_RFsPr",
        "outputId": "bc814e93-c0c8-4d82-9872-ead4b41b82c5"
      },
      "execution_count": null,
      "outputs": [
        {
          "output_type": "stream",
          "name": "stderr",
          "text": [
            "WARNING:tensorflow:`period` argument is deprecated. Please use `save_freq` to specify the frequency in number of batches seen.\n"
          ]
        }
      ]
    },
    {
      "cell_type": "code",
      "source": [
        "history2 = model_2.fit(train_generator, steps_per_epoch=steps_per_epoch, epochs=10, verbose=5,\n",
        "                    callbacks=callbacks_list, validation_data=val_generator,\n",
        "                    validation_steps=validation_steps, class_weight=None)"
      ],
      "metadata": {
        "colab": {
          "base_uri": "https://localhost:8080/"
        },
        "id": "T2jDXCZIFr90",
        "outputId": "567adaf6-462d-42d3-c1f2-212c177bd26a"
      },
      "execution_count": null,
      "outputs": [
        {
          "output_type": "stream",
          "name": "stderr",
          "text": [
            "<ipython-input-89-5f0324ed02b3>:25: DeprecationWarning: Starting with ImageIO v3 the behavior of this function will switch to that of iio.v3.imread. To keep the current behavior (and make this warning disappear) use `import imageio.v2 as imageio` or call `imageio.v2.imread` directly.\n",
            "  image = imread(source_path+'/'+ t[folder + (batch*batch_size)].strip().split(';')[0]+'/'+imgs[item])\n"
          ]
        },
        {
          "output_type": "stream",
          "name": "stdout",
          "text": [
            "Epoch 1/10\n",
            "for final batch, size is  9\n",
            "\n",
            "Epoch 1: val_loss improved from inf to 0.76539, saving model to model2_init_2024-06-0523_40_50.807316/model-00001-1.34567-0.45551-0.76539-0.78000.h5\n",
            "Epoch 2/10\n",
            "for final batch, size is  9\n",
            "\n",
            "Epoch 2: val_loss improved from 0.76539 to 0.54807, saving model to model2_init_2024-06-0523_40_50.807316/model-00002-0.65976-0.76320-0.54807-0.74000.h5\n",
            "Epoch 3/10\n",
            "for final batch, size is  9\n",
            "\n",
            "Epoch 3: val_loss did not improve from 0.54807\n",
            "Epoch 4/10\n",
            "for final batch, size is  9\n",
            "\n",
            "Epoch 4: val_loss did not improve from 0.54807\n",
            "Epoch 5/10\n",
            "for final batch, size is  9\n",
            "\n",
            "Epoch 5: val_loss did not improve from 0.54807\n",
            "Epoch 6/10\n",
            "for final batch, size is  9\n",
            "for final batch, size is  9\n",
            "\n",
            "Epoch 6: val_loss did not improve from 0.54807\n",
            "Epoch 7/10\n",
            "for final batch, size is  9\n",
            "\n",
            "Epoch 7: val_loss did not improve from 0.54807\n",
            "Epoch 8/10\n",
            "for final batch, size is  9\n",
            "\n",
            "Epoch 8: val_loss did not improve from 0.54807\n",
            "Epoch 9/10\n",
            "for final batch, size is  9\n",
            "\n",
            "Epoch 9: val_loss did not improve from 0.54807\n",
            "Epoch 10/10\n",
            "for final batch, size is  9\n",
            "\n",
            "Epoch 10: val_loss did not improve from 0.54807\n"
          ]
        }
      ]
    },
    {
      "cell_type": "code",
      "source": [
        "plt.figure()\n",
        "plt.title('Training vs Validation Loss')\n",
        "plt.plot(range(0,10),model_2.history.history['val_loss'],label='validation_loss')\n",
        "plt.plot(range(0,10),model_2.history.history['loss'],label='training_loss')\n",
        "plt.legend()\n",
        "plt.show()"
      ],
      "metadata": {
        "colab": {
          "base_uri": "https://localhost:8080/",
          "height": 452
        },
        "id": "gf3jnr7qHWWs",
        "outputId": "ccf298b4-b282-4b2c-e6b3-6ca677e6bdb1"
      },
      "execution_count": null,
      "outputs": [
        {
          "output_type": "display_data",
          "data": {
            "text/plain": [
              "<Figure size 640x480 with 1 Axes>"
            ],
            "image/png": "[encoded data removed]"
          },
          "metadata": {}
        }
      ]
    },
    {
      "cell_type": "markdown",
      "source": [
        "### Conclusion\n",
        "1. There is a huge gap between training loss and validation loss.\n",
        "2. Training loss reduced but validation loss stayed high.\n",
        "3. This is an indicator of overfitting."
      ],
      "metadata": {
        "id": "kMEBELEt9dMm"
      }
    },
    {
      "cell_type": "code",
      "source": [
        "plt.figure()\n",
        "plt.title('Training vs Validation Accuracy')\n",
        "plt.plot(range(0,10),model_2.history.history['val_categorical_accuracy'],label='validation_accuracy')\n",
        "plt.plot(range(0,10),model_2.history.history['categorical_accuracy'],label='training_accuracy')\n",
        "plt.legend()\n",
        "plt.show()"
      ],
      "metadata": {
        "colab": {
          "base_uri": "https://localhost:8080/",
          "height": 452
        },
        "id": "HDNQ1rV7HWTc",
        "outputId": "3ee64bdf-0e5f-4fb6-ca76-4f4df30529dc"
      },
      "execution_count": null,
      "outputs": [
        {
          "output_type": "display_data",
          "data": {
            "text/plain": [
              "<Figure size 640x480 with 1 Axes>"
            ],
            "image/png": "[encoded data removed]"
          },
          "metadata": {}
        }
      ]
    },
    {
      "cell_type": "markdown",
      "source": [
        "### Conclusion\n",
        "1. Training accuracy increased over every iteration.\n",
        "2. Validation accuracy lagged behind training accuracy.\n",
        "3. High training accuracy and low training accuracy indicates overfitting."
      ],
      "metadata": {
        "id": "BYjV093_-BGe"
      }
    },
    {
      "cell_type": "code",
      "source": [
        "#Model Optimization\n",
        "STEPS = 15\n",
        "inputs = Input(shape=(STEPS,IMG_SIZE,IMG_SIZE,CHANNELS),name='input')\n",
        "#input_1 = keras.layers.Dropout(0.2)(inputs)\n",
        "output_1 = TimeDistributed(keras.applications.vgg16.VGG16(weights='imagenet',include_top=False,input_shape=(IMG_SIZE,IMG_SIZE,CHANNELS)),name='Vgg16TimeDistribution')(inputs)\n",
        "output_2 = TimeDistributed(keras.layers.Dropout(0.8))(output_1)\n",
        "output_3 = TimeDistributed(keras.layers.BatchNormalization())(output_2)\n",
        "output_4 = TimeDistributed(Flatten())(output_3)\n",
        "output_5 = GRU(100,return_sequences=False)(output_4)\n",
        "output_6 = keras.layers.Dropout(0.8)(output_5)\n",
        "output_7 = keras.layers.BatchNormalization()(output_6)\n",
        "predictions = Dense(5, activation='softmax')(output_7)\n",
        "\n",
        "model_3 = Model([inputs],predictions)\n",
        "model_3.summary()"
      ],
      "metadata": {
        "colab": {
          "base_uri": "https://localhost:8080/"
        },
        "id": "k_p00QuFHWQF",
        "outputId": "f47e4a2d-1b01-4862-bb5e-6d77a3d301bd"
      },
      "execution_count": null,
      "outputs": [
        {
          "output_type": "stream",
          "name": "stdout",
          "text": [
            "Model: \"model_10\"\n",
            "_________________________________________________________________\n",
            " Layer (type)                Output Shape              Param #   \n",
            "=================================================================\n",
            " input (InputLayer)          [(None, 15, 120, 120, 3   0         \n",
            "                             )]                                  \n",
            "                                                                 \n",
            " Vgg16TimeDistribution (Tim  (None, 15, 3, 3, 512)     14714688  \n",
            " eDistributed)                                                   \n",
            "                                                                 \n",
            " time_distributed_12 (TimeD  (None, 15, 3, 3, 512)     0         \n",
            " istributed)                                                     \n",
            "                                                                 \n",
            " time_distributed_13 (TimeD  (None, 15, 3, 3, 512)     2048      \n",
            " istributed)                                                     \n",
            "                                                                 \n",
            " time_distributed_14 (TimeD  (None, 15, 4608)          0         \n",
            " istributed)                                                     \n",
            "                                                                 \n",
            " gru_10 (GRU)                (None, 100)               1413000   \n",
            "                                                                 \n",
            " dropout_2 (Dropout)         (None, 100)               0         \n",
            "                                                                 \n",
            " batch_normalization_2 (Bat  (None, 100)               400       \n",
            " chNormalization)                                                \n",
            "                                                                 \n",
            " dense_10 (Dense)            (None, 5)                 505       \n",
            "                                                                 \n",
            "=================================================================\n",
            "Total params: 16130641 (61.53 MB)\n",
            "Trainable params: 16129417 (61.53 MB)\n",
            "Non-trainable params: 1224 (4.78 KB)\n",
            "_________________________________________________________________\n"
          ]
        }
      ]
    },
    {
      "cell_type": "code",
      "source": [
        "for layer in model_3.layers:\n",
        "    if layer.name == 'Vgg16TimeDistribution':\n",
        "        layer.trainable = False"
      ],
      "metadata": {
        "id": "azxPWcVZHWNC"
      },
      "execution_count": null,
      "outputs": []
    },
    {
      "cell_type": "code",
      "source": [
        "model_3.summary()\n"
      ],
      "metadata": {
        "colab": {
          "base_uri": "https://localhost:8080/"
        },
        "id": "n4VAUGvSHV8i",
        "outputId": "dab9eb66-20bc-4cd3-df39-274e42b3f9e2"
      },
      "execution_count": null,
      "outputs": [
        {
          "output_type": "stream",
          "name": "stdout",
          "text": [
            "Model: \"model_10\"\n",
            "_________________________________________________________________\n",
            " Layer (type)                Output Shape              Param #   \n",
            "=================================================================\n",
            " input (InputLayer)          [(None, 15, 120, 120, 3   0         \n",
            "                             )]                                  \n",
            "                                                                 \n",
            " Vgg16TimeDistribution (Tim  (None, 15, 3, 3, 512)     14714688  \n",
            " eDistributed)                                                   \n",
            "                                                                 \n",
            " time_distributed_12 (TimeD  (None, 15, 3, 3, 512)     0         \n",
            " istributed)                                                     \n",
            "                                                                 \n",
            " time_distributed_13 (TimeD  (None, 15, 3, 3, 512)     2048      \n",
            " istributed)                                                     \n",
            "                                                                 \n",
            " time_distributed_14 (TimeD  (None, 15, 4608)          0         \n",
            " istributed)                                                     \n",
            "                                                                 \n",
            " gru_10 (GRU)                (None, 100)               1413000   \n",
            "                                                                 \n",
            " dropout_2 (Dropout)         (None, 100)               0         \n",
            "                                                                 \n",
            " batch_normalization_2 (Bat  (None, 100)               400       \n",
            " chNormalization)                                                \n",
            "                                                                 \n",
            " dense_10 (Dense)            (None, 5)                 505       \n",
            "                                                                 \n",
            "=================================================================\n",
            "Total params: 16130641 (61.53 MB)\n",
            "Trainable params: 1414729 (5.40 MB)\n",
            "Non-trainable params: 14715912 (56.14 MB)\n",
            "_________________________________________________________________\n"
          ]
        }
      ]
    },
    {
      "cell_type": "code",
      "source": [
        "optimiser = keras.optimizers.RMSprop()#write your optimizer\n",
        "model_3.compile(optimizer=optimiser, loss='categorical_crossentropy', metrics=['categorical_accuracy'])"
      ],
      "metadata": {
        "id": "qLQ5bUEFInaD"
      },
      "execution_count": null,
      "outputs": []
    },
    {
      "cell_type": "code",
      "source": [
        "model_name = 'model3_init' + '_' + str(curr_dt_time).replace(' ','').replace(':','_') + '/'\n",
        "\n",
        "if not os.path.exists(model_name):\n",
        "    os.mkdir(model_name)\n",
        "\n",
        "filepath = model_name + 'model-{epoch:05d}-{loss:.5f}-{categorical_accuracy:.5f}-{val_loss:.5f}-{val_categorical_accuracy:.5f}.h5'\n",
        "\n",
        "checkpoint = ModelCheckpoint(filepath, monitor='val_loss', verbose=5, save_best_only=True, save_weights_only=True, mode='auto', period=1)\n",
        "\n",
        "LR = ReduceLROnPlateau(monitor='val_loss', factor=0.2,\n",
        "                              patience=2)\n",
        "\n",
        "callbacks_list = [checkpoint, LR]"
      ],
      "metadata": {
        "colab": {
          "base_uri": "https://localhost:8080/"
        },
        "id": "Bw4_RdGaInXR",
        "outputId": "24971477-1e70-4d9b-aed0-a1294b8dfc23"
      },
      "execution_count": null,
      "outputs": [
        {
          "output_type": "stream",
          "name": "stderr",
          "text": [
            "WARNING:tensorflow:`period` argument is deprecated. Please use `save_freq` to specify the frequency in number of batches seen.\n"
          ]
        }
      ]
    },
    {
      "cell_type": "code",
      "source": [
        "model_3.fit(train_generator, steps_per_epoch=steps_per_epoch, epochs=10, verbose=5,\n",
        "                    callbacks=callbacks_list, validation_data=val_generator,\n",
        "                    validation_steps=validation_steps, class_weight=None)"
      ],
      "metadata": {
        "colab": {
          "base_uri": "https://localhost:8080/"
        },
        "id": "cuEZiD_wInUr",
        "outputId": "0085a4f2-0427-447e-b55b-e0d0351197f3"
      },
      "execution_count": null,
      "outputs": [
        {
          "output_type": "stream",
          "name": "stderr",
          "text": [
            "<ipython-input-89-5f0324ed02b3>:25: DeprecationWarning: Starting with ImageIO v3 the behavior of this function will switch to that of iio.v3.imread. To keep the current behavior (and make this warning disappear) use `import imageio.v2 as imageio` or call `imageio.v2.imread` directly.\n",
            "  image = imread(source_path+'/'+ t[folder + (batch*batch_size)].strip().split(';')[0]+'/'+imgs[item])\n"
          ]
        },
        {
          "output_type": "stream",
          "name": "stdout",
          "text": [
            "Epoch 1/10\n",
            "for final batch, size is  9\n",
            "\n",
            "Epoch 1: val_loss improved from inf to 1.08976, saving model to model3_init_2024-06-0523_40_50.807316/model-00001-1.90536-0.28507-1.08976-0.59000.h5\n",
            "Epoch 2/10\n",
            "for final batch, size is  9\n",
            "\n",
            "Epoch 2: val_loss improved from 1.08976 to 0.99564, saving model to model3_init_2024-06-0523_40_50.807316/model-00002-1.60986-0.37104-0.99564-0.59000.h5\n",
            "Epoch 3/10\n",
            "for final batch, size is  9\n",
            "\n",
            "Epoch 3: val_loss improved from 0.99564 to 0.80784, saving model to model3_init_2024-06-0523_40_50.807316/model-00003-1.38589-0.45400-0.80784-0.68000.h5\n",
            "Epoch 4/10\n",
            "for final batch, size is  9\n",
            "for final batch, size is  9\n",
            "\n",
            "Epoch 4: val_loss improved from 0.80784 to 0.72344, saving model to model3_init_2024-06-0523_40_50.807316/model-00004-1.06539-0.55505-0.72344-0.71000.h5\n",
            "Epoch 5/10\n",
            "for final batch, size is  9\n",
            "\n",
            "Epoch 5: val_loss improved from 0.72344 to 0.62044, saving model to model3_init_2024-06-0523_40_50.807316/model-00005-0.91412-0.64857-0.62044-0.77000.h5\n",
            "Epoch 6/10\n",
            "for final batch, size is  9\n",
            "\n",
            "Epoch 6: val_loss improved from 0.62044 to 0.60815, saving model to model3_init_2024-06-0523_40_50.807316/model-00006-0.83484-0.66516-0.60815-0.77000.h5\n",
            "Epoch 7/10\n",
            "for final batch, size is  9\n",
            "\n",
            "Epoch 7: val_loss improved from 0.60815 to 0.51087, saving model to model3_init_2024-06-0523_40_50.807316/model-00007-0.69577-0.73152-0.51087-0.83000.h5\n",
            "Epoch 8/10\n",
            "for final batch, size is  9\n",
            "\n",
            "Epoch 8: val_loss did not improve from 0.51087\n",
            "Epoch 9/10\n",
            "for final batch, size is  9\n",
            "\n",
            "Epoch 9: val_loss did not improve from 0.51087\n",
            "Epoch 10/10\n",
            "for final batch, size is  9\n",
            "\n",
            "Epoch 10: val_loss did not improve from 0.51087\n"
          ]
        },
        {
          "output_type": "execute_result",
          "data": {
            "text/plain": [
              "<keras.src.callbacks.History at 0x7c3664295a20>"
            ]
          },
          "metadata": {},
          "execution_count": 112
        }
      ]
    },
    {
      "cell_type": "markdown",
      "source": [
        "### Conclusion\n",
        "\n",
        "1. After applying GRU, BatchOptimization and Dropout, validation loss improved a little to 0.51."
      ],
      "metadata": {
        "id": "zXaxo3D3_csN"
      }
    },
    {
      "cell_type": "code",
      "source": [
        "#Model Optimization using bidirectional GRU layer\n",
        "STEPS = 15\n",
        "inputs = Input(shape=(STEPS,IMG_SIZE,IMG_SIZE,CHANNELS),name='input')\n",
        "#input_1 = keras.layers.Dropout(0.2)(inputs)\n",
        "output_1 = TimeDistributed(keras.applications.vgg16.VGG16(weights='imagenet',include_top=False,input_shape=(IMG_SIZE,IMG_SIZE,CHANNELS)),name='Vgg16TimeDistribution')(inputs)\n",
        "output_2 = TimeDistributed(keras.layers.Dropout(0.8))(output_1)\n",
        "output_3 = TimeDistributed(keras.layers.BatchNormalization())(output_2)\n",
        "output_4 = TimeDistributed(Flatten())(output_3)\n",
        "output_5 = keras.layers.Bidirectional(GRU(100,return_sequences=False))(output_4)\n",
        "output_6 = keras.layers.Dropout(0.8)(output_5)\n",
        "output_7 = keras.layers.BatchNormalization()(output_6)\n",
        "predictions = Dense(5, activation='softmax')(output_7)\n",
        "\n",
        "model_4 = Model([inputs],predictions)\n",
        "model_4.summary()"
      ],
      "metadata": {
        "colab": {
          "base_uri": "https://localhost:8080/"
        },
        "id": "l2zjemKUInSG",
        "outputId": "80794095-fb34-4985-fa48-b7b314cbb7a2"
      },
      "execution_count": null,
      "outputs": [
        {
          "output_type": "stream",
          "name": "stdout",
          "text": [
            "Model: \"model_11\"\n",
            "_________________________________________________________________\n",
            " Layer (type)                Output Shape              Param #   \n",
            "=================================================================\n",
            " input (InputLayer)          [(None, 15, 120, 120, 3   0         \n",
            "                             )]                                  \n",
            "                                                                 \n",
            " Vgg16TimeDistribution (Tim  (None, 15, 3, 3, 512)     14714688  \n",
            " eDistributed)                                                   \n",
            "                                                                 \n",
            " time_distributed_15 (TimeD  (None, 15, 3, 3, 512)     0         \n",
            " istributed)                                                     \n",
            "                                                                 \n",
            " time_distributed_16 (TimeD  (None, 15, 3, 3, 512)     2048      \n",
            " istributed)                                                     \n",
            "                                                                 \n",
            " time_distributed_17 (TimeD  (None, 15, 4608)          0         \n",
            " istributed)                                                     \n",
            "                                                                 \n",
            " bidirectional (Bidirection  (None, 200)               2826000   \n",
            " al)                                                             \n",
            "                                                                 \n",
            " dropout_4 (Dropout)         (None, 200)               0         \n",
            "                                                                 \n",
            " batch_normalization_4 (Bat  (None, 200)               800       \n",
            " chNormalization)                                                \n",
            "                                                                 \n",
            " dense_11 (Dense)            (None, 5)                 1005      \n",
            "                                                                 \n",
            "=================================================================\n",
            "Total params: 17544541 (66.93 MB)\n",
            "Trainable params: 17543117 (66.92 MB)\n",
            "Non-trainable params: 1424 (5.56 KB)\n",
            "_________________________________________________________________\n"
          ]
        }
      ]
    },
    {
      "cell_type": "code",
      "source": [
        "for layer in model_4.layers:\n",
        "    if layer.name == 'Vgg16TimeDistribution':\n",
        "        layer.trainable = False"
      ],
      "metadata": {
        "id": "yiGu22i_InPe"
      },
      "execution_count": null,
      "outputs": []
    },
    {
      "cell_type": "code",
      "source": [
        "model_4.summary()"
      ],
      "metadata": {
        "colab": {
          "base_uri": "https://localhost:8080/"
        },
        "id": "r3IRWqrCInMv",
        "outputId": "48e484c1-d9cc-4356-ac22-0d35da74c3be"
      },
      "execution_count": null,
      "outputs": [
        {
          "output_type": "stream",
          "name": "stdout",
          "text": [
            "Model: \"model_11\"\n",
            "_________________________________________________________________\n",
            " Layer (type)                Output Shape              Param #   \n",
            "=================================================================\n",
            " input (InputLayer)          [(None, 15, 120, 120, 3   0         \n",
            "                             )]                                  \n",
            "                                                                 \n",
            " Vgg16TimeDistribution (Tim  (None, 15, 3, 3, 512)     14714688  \n",
            " eDistributed)                                                   \n",
            "                                                                 \n",
            " time_distributed_15 (TimeD  (None, 15, 3, 3, 512)     0         \n",
            " istributed)                                                     \n",
            "                                                                 \n",
            " time_distributed_16 (TimeD  (None, 15, 3, 3, 512)     2048      \n",
            " istributed)                                                     \n",
            "                                                                 \n",
            " time_distributed_17 (TimeD  (None, 15, 4608)          0         \n",
            " istributed)                                                     \n",
            "                                                                 \n",
            " bidirectional (Bidirection  (None, 200)               2826000   \n",
            " al)                                                             \n",
            "                                                                 \n",
            " dropout_4 (Dropout)         (None, 200)               0         \n",
            "                                                                 \n",
            " batch_normalization_4 (Bat  (None, 200)               800       \n",
            " chNormalization)                                                \n",
            "                                                                 \n",
            " dense_11 (Dense)            (None, 5)                 1005      \n",
            "                                                                 \n",
            "=================================================================\n",
            "Total params: 17544541 (66.93 MB)\n",
            "Trainable params: 2828429 (10.79 MB)\n",
            "Non-trainable params: 14716112 (56.14 MB)\n",
            "_________________________________________________________________\n"
          ]
        }
      ]
    },
    {
      "cell_type": "code",
      "source": [
        "optimiser = keras.optimizers.RMSprop() #write your optimizer\n",
        "model_4.compile(optimizer=optimiser, loss='categorical_crossentropy', metrics=['categorical_accuracy'])"
      ],
      "metadata": {
        "id": "AxIJAoejInKC"
      },
      "execution_count": null,
      "outputs": []
    },
    {
      "cell_type": "code",
      "source": [
        "model_name = 'model4_init' + '_' + str(curr_dt_time).replace(' ','').replace(':','_') + '/'\n",
        "\n",
        "if not os.path.exists(model_name):\n",
        "    os.mkdir(model_name)\n",
        "\n",
        "filepath = model_name + 'model-{epoch:05d}-{loss:.5f}-{categorical_accuracy:.5f}-{val_loss:.5f}-{val_categorical_accuracy:.5f}.h5'\n",
        "\n",
        "checkpoint = ModelCheckpoint(filepath, monitor='val_loss', verbose=5, save_best_only=True, save_weights_only=True, mode='auto', period=1)\n",
        "\n",
        "LR = ReduceLROnPlateau(monitor='val_loss', factor=0.2,\n",
        "                              patience=2)\n",
        "\n",
        "callbacks_list = [checkpoint, LR]"
      ],
      "metadata": {
        "colab": {
          "base_uri": "https://localhost:8080/"
        },
        "id": "GQrt87lDInHJ",
        "outputId": "a521ae76-54a3-4c85-8a2a-8dd86af5aceb"
      },
      "execution_count": 119,
      "outputs": [
        {
          "output_type": "stream",
          "name": "stderr",
          "text": [
            "WARNING:tensorflow:`period` argument is deprecated. Please use `save_freq` to specify the frequency in number of batches seen.\n"
          ]
        }
      ]
    },
    {
      "cell_type": "code",
      "source": [
        "model_4.fit(train_generator, steps_per_epoch=steps_per_epoch, epochs=10, verbose=5,\n",
        "                    callbacks=callbacks_list, validation_data=val_generator,\n",
        "                    validation_steps=validation_steps, class_weight=None)"
      ],
      "metadata": {
        "colab": {
          "base_uri": "https://localhost:8080/"
        },
        "id": "r9IR3VseInEb",
        "outputId": "961cdec8-010d-4168-b6eb-2972e26f7ae2"
      },
      "execution_count": null,
      "outputs": [
        {
          "output_type": "stream",
          "name": "stderr",
          "text": [
            "<ipython-input-89-5f0324ed02b3>:25: DeprecationWarning: Starting with ImageIO v3 the behavior of this function will switch to that of iio.v3.imread. To keep the current behavior (and make this warning disappear) use `import imageio.v2 as imageio` or call `imageio.v2.imread` directly.\n",
            "  image = imread(source_path+'/'+ t[folder + (batch*batch_size)].strip().split(';')[0]+'/'+imgs[item])\n"
          ]
        },
        {
          "output_type": "stream",
          "name": "stdout",
          "text": [
            "Epoch 1/10\n",
            "for final batch, size is  9\n",
            "\n",
            "Epoch 1: val_loss improved from inf to 1.03533, saving model to model4_init_2024-06-0523_40_50.807316/model-00001-1.89477-0.31071-1.03533-0.57000.h5\n",
            "Epoch 2/10\n",
            "for final batch, size is  9\n",
            "for final batch, size is  9\n",
            "\n",
            "Epoch 2: val_loss improved from 1.03533 to 0.87287, saving model to model4_init_2024-06-0523_40_50.807316/model-00002-1.41116-0.45852-0.87287-0.68000.h5\n",
            "Epoch 3/10\n",
            "for final batch, size is  9\n",
            "\n",
            "Epoch 3: val_loss improved from 0.87287 to 0.67197, saving model to model4_init_2024-06-0523_40_50.807316/model-00003-1.22793-0.51131-0.67197-0.77000.h5\n",
            "Epoch 4/10\n",
            "for final batch, size is  9\n",
            "\n",
            "Epoch 4: val_loss improved from 0.67197 to 0.56597, saving model to model4_init_2024-06-0523_40_50.807316/model-00004-1.01861-0.62443-0.56597-0.83000.h5\n",
            "Epoch 5/10\n",
            "for final batch, size is  9\n",
            "\n",
            "Epoch 5: val_loss improved from 0.56597 to 0.41054, saving model to model4_init_2024-06-0523_40_50.807316/model-00005-0.81481-0.70739-0.41054-0.87000.h5\n",
            "Epoch 6/10\n",
            "for final batch, size is  9\n",
            "\n",
            "Epoch 6: val_loss did not improve from 0.41054\n",
            "Epoch 7/10\n",
            "for final batch, size is  9\n",
            "\n",
            "Epoch 7: val_loss did not improve from 0.41054\n",
            "Epoch 8/10\n",
            "for final batch, size is  9\n",
            "\n",
            "Epoch 8: val_loss did not improve from 0.41054\n",
            "Epoch 9/10\n",
            "for final batch, size is  9\n",
            "\n",
            "Epoch 9: val_loss did not improve from 0.41054\n",
            "Epoch 10/10\n",
            "for final batch, size is  9\n",
            "for final batch, size is  9\n",
            "\n",
            "Epoch 10: val_loss did not improve from 0.41054\n"
          ]
        },
        {
          "output_type": "execute_result",
          "data": {
            "text/plain": [
              "<keras.src.callbacks.History at 0x7c366c387370>"
            ]
          },
          "metadata": {},
          "execution_count": 118
        }
      ]
    },
    {
      "cell_type": "markdown",
      "source": [
        "### Conclusion\n",
        "\n",
        "1. Adding the Bidirectional GRU, validation loss fell to 0.41."
      ],
      "metadata": {
        "id": "MvnDhfPAEoWh"
      }
    },
    {
      "cell_type": "markdown",
      "source": [
        "### Trying Conv3D Library to create model"
      ],
      "metadata": {
        "id": "v4aZtRB1KShh"
      }
    },
    {
      "cell_type": "code",
      "source": [
        "train_path = '/content/drive/MyDrive/upgrad/neural_data/project_data/train'\n",
        "val_path = '/content/drive/MyDrive/upgrad/neural_data/project_data/val'\n",
        "num_train_sequences = len(train_doc) #change training data size for initial phase\n",
        "num_val_sequences = len(val_doc) #val training data can be kept as such\n",
        "num_epochs = 10 # choose the number of epochs\n",
        "batch_size = 15 #experiment with the batch size"
      ],
      "metadata": {
        "id": "UXPPbbzWInAv"
      },
      "execution_count": 129,
      "outputs": []
    },
    {
      "cell_type": "markdown",
      "source": [
        "### Generators"
      ],
      "metadata": {
        "id": "paBk2lfEK8b7"
      }
    },
    {
      "cell_type": "code",
      "source": [
        "def generator(source_path, folder_list, batch_size):\n",
        "    print( 'Source path = ', source_path, '; batch size =', batch_size)\n",
        "\n",
        "    #note using alternate 15 images here\n",
        "    img_idx = list(range(0,30,2))#create a list of image numbers you want to use for a particular video\n",
        "    #img_idx = list(range(5, 25)) #taking middle frames only\n",
        "    orig_batch_size = batch_size\n",
        "    while True:\n",
        "\n",
        "        t = np.random.permutation(folder_list)\n",
        "        batch_size = orig_batch_size\n",
        "        if(len(folder_list)%batch_size)==0:\n",
        "            num_batches = int(len(folder_list)/batch_size)# calculate the number of batches\n",
        "        else:\n",
        "            num_batches = int((len(folder_list)//batch_size) + 1)# calculate the number of batches\n",
        "\n",
        "        for batch in range(num_batches): # we iterate over the number of batches\n",
        "\n",
        "            if(batch==num_batches-1) and (len(folder_list)%batch_size)!=0:\n",
        "                batch_size =  int(len(folder_list)%batch_size)\n",
        "                #print('for final batch, size is ',batch_size)\n",
        "\n",
        "            batch_data = np.zeros((batch_size,len(img_idx),IMG_SIZE,IMG_SIZE,CHANNELS)) # x is the number of images you use for each video, (y,z) is the final size of the input images and 3 is the number of channels RGB\n",
        "            batch_labels = np.zeros((batch_size,5)) # batch_labels is the one hot representation of the output\n",
        "\n",
        "            #act_batch_data = np.zeros((batch_size,len(img_idx),100352))\n",
        "            for folder in range(batch_size): # iterate over the batch_size\n",
        "                imgs = os.listdir(source_path+'/'+ t[folder + (batch*batch_size)].split(';')[0]) # read all the images in the folder\n",
        "\n",
        "                for idx,item in enumerate(img_idx): #  Iterate iver the frames/images of a folder to read them in\n",
        "                    #print('img_idx',img_idx)\n",
        "                    image = imread(source_path+'/'+ t[folder + (batch*batch_size)].strip().split(';')[0]+'/'+imgs[item])\n",
        "                    #print('read image')\n",
        "                    image = resize(image, (IMG_SIZE, IMG_SIZE))\n",
        "                    #(image[:,:,0] - np.mean(image[:,:,0]))/np.std(image[:,:,0])\n",
        "                    batch_data[folder,idx,:,:,0] = (image[:,:,0] - np.mean(image[:,:,0]))/np.std(image[:,:,0])\n",
        "                    batch_data[folder,idx,:,:,1] = (image[:,:,1] - np.mean(image[:,:,1]))/np.std(image[:,:,1])\n",
        "                    batch_data[folder,idx,:,:,2] = (image[:,:,2] - np.mean(image[:,:,2]))/np.std(image[:,:,2])\n",
        "                    #(image[:,:,2] - np.percentile(image[:,:,2], 5))/(np.percentile(image[:,:,2], 95) - np.percentile(image[:,:,2], 5))\n",
        "\n",
        "                batch_labels[folder, int(t[folder + (batch*batch_size)].strip().split(';')[2])] = 1\n",
        "\n",
        "            yield batch_data, batch_labels #you yield the batch_data and the batch_labels, remember what does yield do"
      ],
      "metadata": {
        "id": "Kd66QN6eIm9A"
      },
      "execution_count": 130,
      "outputs": []
    },
    {
      "cell_type": "markdown",
      "source": [
        "### Callbacks"
      ],
      "metadata": {
        "id": "_rc0q9JoL1C1"
      }
    },
    {
      "cell_type": "code",
      "source": [
        "curr_dt_time = datetime.datetime.now()\n",
        "model_name = 'model3d_init' + '_' + str(curr_dt_time).replace(' ','').replace(':','_') + '/'\n",
        "\n",
        "if not os.path.exists(model_name):\n",
        "    os.mkdir(model_name)\n",
        "\n",
        "filepath = model_name + 'model-{epoch:05d}-{loss:.5f}-{categorical_accuracy:.5f}-{val_loss:.5f}-{val_categorical_accuracy:.5f}.h5'\n",
        "\n",
        "checkpoint = ModelCheckpoint(filepath, monitor='val_loss', verbose=1, save_weights_only=True, mode='auto', period=1)\n",
        "\n",
        "#pateince = after how many epochs the learning rate should be reduced.\n",
        "LR = ReduceLROnPlateau(monitor='val_loss', factor=0.5, patience=4 , cooldown=1, verbose=1)\n",
        "callbacks_list = [LR, checkpoint]"
      ],
      "metadata": {
        "id": "T0geakW4LP_V",
        "colab": {
          "base_uri": "https://localhost:8080/"
        },
        "outputId": "4a497543-e7df-417f-d0c0-1a1f1a78f265"
      },
      "execution_count": 131,
      "outputs": [
        {
          "output_type": "stream",
          "name": "stderr",
          "text": [
            "WARNING:tensorflow:`period` argument is deprecated. Please use `save_freq` to specify the frequency in number of batches seen.\n"
          ]
        }
      ]
    },
    {
      "cell_type": "markdown",
      "source": [
        "#### Steps per Epoch, Validation steps"
      ],
      "metadata": {
        "id": "Yht26276NYH4"
      }
    },
    {
      "cell_type": "code",
      "source": [
        "print('num_train_sequences',len(train_doc))\n",
        "print('num_val_sequences',len(val_doc))\n",
        "print('batch size',batch_size)\n",
        "if (num_train_sequences%batch_size) == 0:\n",
        "    steps_per_epoch = int(num_train_sequences/batch_size)\n",
        "else:\n",
        "    steps_per_epoch = (num_train_sequences//batch_size) + 1\n",
        "\n",
        "if (num_val_sequences%batch_size) == 0:\n",
        "    validation_steps = int(num_val_sequences/batch_size)\n",
        "else:\n",
        "    validation_steps = (num_val_sequences//batch_size) + 1\n",
        "print('steps_per_epoch',steps_per_epoch)\n",
        "print('validation_steps',validation_steps)"
      ],
      "metadata": {
        "id": "kPYxzGvBLP8T",
        "colab": {
          "base_uri": "https://localhost:8080/"
        },
        "outputId": "6d1c1f4e-f2ec-48b0-fed4-9b27fed54a85"
      },
      "execution_count": 132,
      "outputs": [
        {
          "output_type": "stream",
          "name": "stdout",
          "text": [
            "num_train_sequences 663\n",
            "num_val_sequences 100\n",
            "batch size 15\n",
            "steps_per_epoch 45\n",
            "validation_steps 7\n"
          ]
        }
      ]
    },
    {
      "cell_type": "code",
      "source": [
        "model_conv3d = Sequential()\n",
        "\n",
        "model_conv3d.add(Conv3D(16, kernel_size=(3, 3, 3), activation = 'relu', input_shape = (15, 120, 120, 3), padding='same'))\n",
        "model_conv3d.add(BatchNormalization())\n",
        "model_conv3d.add(MaxPooling3D(pool_size=(2, 2, 2)))\n",
        "\n",
        "model_conv3d.add(Conv3D(32, kernel_size = (3, 3, 3), activation = 'relu', padding='same'))\n",
        "model_conv3d.add(BatchNormalization())\n",
        "model_conv3d.add(MaxPooling3D(pool_size=(1, 2, 2), strides = (1,2,2)))\n",
        "\n",
        "model_conv3d.add(Conv3D(64, kernel_size = (3, 3, 3), activation = 'relu', padding='same'))\n",
        "model_conv3d.add(BatchNormalization())\n",
        "model_conv3d.add(MaxPooling3D(pool_size=(2, 2, 2)))\n",
        "\n",
        "model_conv3d.add(Conv3D(128, kernel_size = (3, 3, 3), activation = 'relu', padding='same'))\n",
        "model_conv3d.add(BatchNormalization())\n",
        "model_conv3d.add(MaxPooling3D(pool_size=(2, 2, 2)))\n",
        "\n",
        "model_conv3d.add(Flatten())\n",
        "model_conv3d.add(Dropout(0.5))\n",
        "model_conv3d.add(Dense(128, activation='relu'))\n",
        "model_conv3d.add(Dropout(0.5))\n",
        "\n",
        "model_conv3d.add(Dense(5, activation = 'softmax'))"
      ],
      "metadata": {
        "id": "rjdTWmjnLP5U"
      },
      "execution_count": 133,
      "outputs": []
    },
    {
      "cell_type": "code",
      "source": [
        "model_conv3d.summary()"
      ],
      "metadata": {
        "id": "Poe4aD2jLP2N",
        "colab": {
          "base_uri": "https://localhost:8080/"
        },
        "outputId": "6d64fe23-af00-44cf-a355-29bfe3349358"
      },
      "execution_count": 134,
      "outputs": [
        {
          "output_type": "stream",
          "name": "stdout",
          "text": [
            "Model: \"sequential_1\"\n",
            "_________________________________________________________________\n",
            " Layer (type)                Output Shape              Param #   \n",
            "=================================================================\n",
            " conv3d_4 (Conv3D)           (None, 15, 120, 120, 16   1312      \n",
            "                             )                                   \n",
            "                                                                 \n",
            " batch_normalization_9 (Bat  (None, 15, 120, 120, 16   64        \n",
            " chNormalization)            )                                   \n",
            "                                                                 \n",
            " max_pooling3d_4 (MaxPoolin  (None, 7, 60, 60, 16)     0         \n",
            " g3D)                                                            \n",
            "                                                                 \n",
            " conv3d_5 (Conv3D)           (None, 7, 60, 60, 32)     13856     \n",
            "                                                                 \n",
            " batch_normalization_10 (Ba  (None, 7, 60, 60, 32)     128       \n",
            " tchNormalization)                                               \n",
            "                                                                 \n",
            " max_pooling3d_5 (MaxPoolin  (None, 7, 30, 30, 32)     0         \n",
            " g3D)                                                            \n",
            "                                                                 \n",
            " conv3d_6 (Conv3D)           (None, 7, 30, 30, 64)     55360     \n",
            "                                                                 \n",
            " batch_normalization_11 (Ba  (None, 7, 30, 30, 64)     256       \n",
            " tchNormalization)                                               \n",
            "                                                                 \n",
            " max_pooling3d_6 (MaxPoolin  (None, 3, 15, 15, 64)     0         \n",
            " g3D)                                                            \n",
            "                                                                 \n",
            " conv3d_7 (Conv3D)           (None, 3, 15, 15, 128)    221312    \n",
            "                                                                 \n",
            " batch_normalization_12 (Ba  (None, 3, 15, 15, 128)    512       \n",
            " tchNormalization)                                               \n",
            "                                                                 \n",
            " max_pooling3d_7 (MaxPoolin  (None, 1, 7, 7, 128)      0         \n",
            " g3D)                                                            \n",
            "                                                                 \n",
            " flatten_13 (Flatten)        (None, 6272)              0         \n",
            "                                                                 \n",
            " dropout_7 (Dropout)         (None, 6272)              0         \n",
            "                                                                 \n",
            " dense_14 (Dense)            (None, 128)               802944    \n",
            "                                                                 \n",
            " dropout_8 (Dropout)         (None, 128)               0         \n",
            "                                                                 \n",
            " dense_15 (Dense)            (None, 5)                 645       \n",
            "                                                                 \n",
            "=================================================================\n",
            "Total params: 1096389 (4.18 MB)\n",
            "Trainable params: 1095909 (4.18 MB)\n",
            "Non-trainable params: 480 (1.88 KB)\n",
            "_________________________________________________________________\n"
          ]
        }
      ]
    },
    {
      "cell_type": "code",
      "source": [
        "optimiser = optimizers.Adam()\n",
        "model.compile(optimizer=optimiser, loss='categorical_crossentropy', metrics=['categorical_accuracy'])\n",
        "\n",
        "train_generator = generator(train_path, train_doc, batch_size)\n",
        "val_generator = generator(val_path, val_doc, batch_size)"
      ],
      "metadata": {
        "id": "ji-o2IKYLPzE"
      },
      "execution_count": 135,
      "outputs": []
    },
    {
      "cell_type": "code",
      "source": [
        "# Fit the model\n",
        "model.fit(train_generator, steps_per_epoch=steps_per_epoch, epochs=num_epochs, verbose=1,\n",
        "                    callbacks=callbacks_list, validation_data=val_generator,\n",
        "                    validation_steps=validation_steps, class_weight=None, workers=1, initial_epoch=0)\n",
        "\n"
      ],
      "metadata": {
        "id": "ixPUEqgULPwO",
        "colab": {
          "base_uri": "https://localhost:8080/"
        },
        "outputId": "3cc9a131-bb40-46a1-f58d-a3718ee978ec"
      },
      "execution_count": 136,
      "outputs": [
        {
          "output_type": "stream",
          "name": "stdout",
          "text": [
            "Source path =  /content/drive/MyDrive/upgrad/neural_data/project_data/train ; batch size = 15\n"
          ]
        },
        {
          "output_type": "stream",
          "name": "stderr",
          "text": [
            "<ipython-input-130-214cc48a916f>:32: DeprecationWarning: Starting with ImageIO v3 the behavior of this function will switch to that of iio.v3.imread. To keep the current behavior (and make this warning disappear) use `import imageio.v2 as imageio` or call `imageio.v2.imread` directly.\n",
            "  image = imread(source_path+'/'+ t[folder + (batch*batch_size)].strip().split(';')[0]+'/'+imgs[item])\n"
          ]
        },
        {
          "output_type": "stream",
          "name": "stdout",
          "text": [
            "Epoch 1/10\n",
            "45/45 [==============================] - ETA: 0s - loss: 0.0352 - categorical_accuracy: 0.9894Source path =  /content/drive/MyDrive/upgrad/neural_data/project_data/val ; batch size = 15\n",
            "\n",
            "Epoch 1: saving model to model3d_init_2024-06-0601_11_39.432600/model-00001-0.03518-0.98944-1.43141-0.64000.h5\n",
            "45/45 [==============================] - 132s 3s/step - loss: 0.0352 - categorical_accuracy: 0.9894 - val_loss: 1.4314 - val_categorical_accuracy: 0.6400 - lr: 0.0010\n",
            "Epoch 2/10\n",
            "45/45 [==============================] - ETA: 0s - loss: 0.0904 - categorical_accuracy: 0.9729\n",
            "Epoch 2: saving model to model3d_init_2024-06-0601_11_39.432600/model-00002-0.09040-0.97285-0.77591-0.72000.h5\n",
            "45/45 [==============================] - 119s 3s/step - loss: 0.0904 - categorical_accuracy: 0.9729 - val_loss: 0.7759 - val_categorical_accuracy: 0.7200 - lr: 0.0010\n",
            "Epoch 3/10\n",
            "45/45 [==============================] - ETA: 0s - loss: 0.0286 - categorical_accuracy: 0.9910\n",
            "Epoch 3: saving model to model3d_init_2024-06-0601_11_39.432600/model-00003-0.02860-0.99095-0.41840-0.86000.h5\n",
            "45/45 [==============================] - 115s 3s/step - loss: 0.0286 - categorical_accuracy: 0.9910 - val_loss: 0.4184 - val_categorical_accuracy: 0.8600 - lr: 0.0010\n",
            "Epoch 4/10\n",
            "45/45 [==============================] - ETA: 0s - loss: 0.0067 - categorical_accuracy: 0.9985\n",
            "Epoch 4: saving model to model3d_init_2024-06-0601_11_39.432600/model-00004-0.00666-0.99849-0.53876-0.80000.h5\n",
            "45/45 [==============================] - 109s 2s/step - loss: 0.0067 - categorical_accuracy: 0.9985 - val_loss: 0.5388 - val_categorical_accuracy: 0.8000 - lr: 0.0010\n",
            "Epoch 5/10\n",
            "45/45 [==============================] - ETA: 0s - loss: 0.0062 - categorical_accuracy: 1.0000\n",
            "Epoch 5: saving model to model3d_init_2024-06-0601_11_39.432600/model-00005-0.00617-1.00000-0.78062-0.72000.h5\n",
            "45/45 [==============================] - 107s 2s/step - loss: 0.0062 - categorical_accuracy: 1.0000 - val_loss: 0.7806 - val_categorical_accuracy: 0.7200 - lr: 0.0010\n",
            "Epoch 6/10\n",
            "45/45 [==============================] - ETA: 0s - loss: 4.7141e-04 - categorical_accuracy: 1.0000\n",
            "Epoch 6: saving model to model3d_init_2024-06-0601_11_39.432600/model-00006-0.00047-1.00000-0.48959-0.82000.h5\n",
            "45/45 [==============================] - 108s 2s/step - loss: 4.7141e-04 - categorical_accuracy: 1.0000 - val_loss: 0.4896 - val_categorical_accuracy: 0.8200 - lr: 0.0010\n",
            "Epoch 7/10\n",
            "45/45 [==============================] - ETA: 0s - loss: 2.1493e-04 - categorical_accuracy: 1.0000\n",
            "Epoch 7: ReduceLROnPlateau reducing learning rate to 0.0005000000237487257.\n",
            "\n",
            "Epoch 7: saving model to model3d_init_2024-06-0601_11_39.432600/model-00007-0.00021-1.00000-0.57864-0.79000.h5\n",
            "45/45 [==============================] - 106s 2s/step - loss: 2.1493e-04 - categorical_accuracy: 1.0000 - val_loss: 0.5786 - val_categorical_accuracy: 0.7900 - lr: 0.0010\n",
            "Epoch 8/10\n",
            "45/45 [==============================] - ETA: 0s - loss: 1.4753e-04 - categorical_accuracy: 1.0000\n",
            "Epoch 8: saving model to model3d_init_2024-06-0601_11_39.432600/model-00008-0.00015-1.00000-0.52253-0.82000.h5\n",
            "45/45 [==============================] - 110s 2s/step - loss: 1.4753e-04 - categorical_accuracy: 1.0000 - val_loss: 0.5225 - val_categorical_accuracy: 0.8200 - lr: 5.0000e-04\n",
            "Epoch 9/10\n",
            "45/45 [==============================] - ETA: 0s - loss: 1.2901e-04 - categorical_accuracy: 1.0000\n",
            "Epoch 9: saving model to model3d_init_2024-06-0601_11_39.432600/model-00009-0.00013-1.00000-0.53981-0.80000.h5\n",
            "45/45 [==============================] - 106s 2s/step - loss: 1.2901e-04 - categorical_accuracy: 1.0000 - val_loss: 0.5398 - val_categorical_accuracy: 0.8000 - lr: 5.0000e-04\n",
            "Epoch 10/10\n",
            "45/45 [==============================] - ETA: 0s - loss: 1.1589e-04 - categorical_accuracy: 1.0000\n",
            "Epoch 10: saving model to model3d_init_2024-06-0601_11_39.432600/model-00010-0.00012-1.00000-0.53009-0.82000.h5\n",
            "45/45 [==============================] - 109s 2s/step - loss: 1.1589e-04 - categorical_accuracy: 1.0000 - val_loss: 0.5301 - val_categorical_accuracy: 0.8200 - lr: 5.0000e-04\n"
          ]
        },
        {
          "output_type": "execute_result",
          "data": {
            "text/plain": [
              "<keras.src.callbacks.History at 0x7c3624267040>"
            ]
          },
          "metadata": {},
          "execution_count": 136
        }
      ]
    },
    {
      "cell_type": "code",
      "source": [
        "plt.figure()\n",
        "plt.title('Training vs Validation Loss')\n",
        "plt.plot(range(0,10),model.history.history['val_loss'],label='validation_loss')\n",
        "plt.plot(range(0,10),model.history.history['loss'],label='training_loss')\n",
        "plt.legend()\n",
        "plt.show()"
      ],
      "metadata": {
        "colab": {
          "base_uri": "https://localhost:8080/",
          "height": 452
        },
        "id": "vyj8tQwvK56N",
        "outputId": "2bbcc9d0-4584-46d8-a232-7b5b8b688573"
      },
      "execution_count": 137,
      "outputs": [
        {
          "output_type": "display_data",
          "data": {
            "text/plain": [
              "<Figure size 640x480 with 1 Axes>"
            ],
            "image/png": "[encoded data removed]"
          },
          "metadata": {}
        }
      ]
    },
    {
      "cell_type": "code",
      "source": [
        "plt.figure()\n",
        "plt.title('Training vs Validation Accuracy')\n",
        "plt.plot(range(0,10),model.history.history['val_categorical_accuracy'],label='validation_accuracy')\n",
        "plt.plot(range(0,10),model.history.history['categorical_accuracy'],label='training_accuracy')\n",
        "plt.legend()\n",
        "plt.show()"
      ],
      "metadata": {
        "colab": {
          "base_uri": "https://localhost:8080/",
          "height": 452
        },
        "id": "mPdHRuVeLGpw",
        "outputId": "9337acbc-7ac7-4187-f80d-bf3131755042"
      },
      "execution_count": 138,
      "outputs": [
        {
          "output_type": "display_data",
          "data": {
            "text/plain": [
              "<Figure size 640x480 with 1 Axes>"
            ],
            "image/png": "[encoded data removed]"
          },
          "metadata": {}
        }
      ]
    },
    {
      "cell_type": "markdown",
      "source": [
        "### Summary\n",
        "\n",
        "The CONV3D model also shows the problem of overfitting, but in the first iteration itself, it has achieved better accuracy and reduced loss for both validation data and training data.\n",
        "\n",
        "Lot many improvements, experiments and variations can be added to improve these models, but due to limited computing resources, it is not possible to achieve. Even on Google Colab, training the model and machine learning is taking a lot of time."
      ],
      "metadata": {
        "id": "yFrj23fxRtBr"
      }
    },
    {
      "cell_type": "code",
      "source": [],
      "metadata": {
        "id": "G4WJj77rLPtM"
      },
      "execution_count": null,
      "outputs": []
    },
    {
      "cell_type": "code",
      "source": [],
      "metadata": {
        "id": "BVF7Duw5LPp7"
      },
      "execution_count": null,
      "outputs": []
    }
  ],
  "metadata": {
    "accelerator": "GPU",
    "colab": {
      "gpuType": "L4",
      "machine_shape": "hm",
      "provenance": []
    },
    "kernelspec": {
      "display_name": "Python 3",
      "name": "python3"
    },
    "language_info": {
      "codemirror_mode": {
        "name": "ipython",
        "version": 3
      },
      "file_extension": ".py",
      "mimetype": "text/x-python",
      "name": "python",
      "nbconvert_exporter": "python",
      "pygments_lexer": "ipython3",
      "version": "3.6.5"
    }
  },
  "nbformat": 4,
  "nbformat_minor": 0
}