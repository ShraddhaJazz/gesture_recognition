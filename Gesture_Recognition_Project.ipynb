{
  "cells": [
    {
      "cell_type": "markdown",
      "metadata": {
        "id": "P5CA2HR5uWrT"
      },
      "source": [
        "# Gesture Recognition\n",
        "In this group project, you are going to build a 3D Conv model that will be able to predict the 5 gestures correctly. Please import the following libraries to get started."
      ]
    },
    {
      "cell_type": "code",
      "execution_count": null,
      "metadata": {
        "id": "wXirmLqLuWrU"
      },
      "outputs": [],
      "source": [
        "import numpy as np\n",
        "import glob\n",
        "import os\n",
        "from imageio import imread\n",
        "from skimage.transform import resize\n",
        "import datetime\n",
        "import os\n",
        "import keras\n",
        "import matplotlib.pyplot as plt\n",
        "from tensorflow.keras.callbacks import ModelCheckpoint, ReduceLROnPlateau, EarlyStopping\n"
      ]
    },
    {
      "cell_type": "markdown",
      "metadata": {
        "id": "4wMvua4AuWrV"
      },
      "source": [
        "We set the random seed so that the results don't vary drastically."
      ]
    },
    {
      "cell_type": "code",
      "execution_count": null,
      "metadata": {
        "id": "h2bHEfbIuWrV"
      },
      "outputs": [],
      "source": [
        "np.random.seed(30)\n",
        "import random as rn\n",
        "rn.seed(30)\n",
        "from keras import backend as K\n",
        "import tensorflow as tf\n",
        "tf.random.set_seed(30)"
      ]
    },
    {
      "cell_type": "markdown",
      "metadata": {
        "id": "PgQ8A--cuWrV"
      },
      "source": [
        "In this block, you read the folder names for training and validation. You also set the `batch_size` here. Note that you set the batch size in such a way that you are able to use the GPU in full capacity. You keep increasing the batch size until the machine throws an error."
      ]
    },
    {
      "cell_type": "code",
      "execution_count": null,
      "metadata": {
        "id": "r-ACWWZZSp2S"
      },
      "outputs": [],
      "source": [
        "from google.colab import drive\n",
        "drive.mount('/content/drive')"
      ]
    },
    {
      "cell_type": "code",
      "execution_count": null,
      "metadata": {
        "id": "AsS9equruWrV"
      },
      "outputs": [],
      "source": [
        "train_doc = np.random.permutation(open('/content/drive/MyDrive/upgrad/neural_data/project_data/train.csv').readlines())\n",
        "val_doc = np.random.permutation(open('/content/drive/MyDrive/upgrad/neural_data/project_data/val.csv').readlines())\n",
        "batch_size = 10 #experiment with the batch size"
      ]
    },
    {
      "cell_type": "code",
      "execution_count": null,
      "metadata": {
        "id": "Gc5cvxQhrt2n"
      },
      "outputs": [],
      "source": [
        "# Check for possible image dimensions\n",
        "dimensions = []\n",
        "for i in range(len(train_doc)):\n",
        "  path = os.path.join('/content/drive/MyDrive/upgrad/neural_data/project_data/train', train_doc[i].split(';')[0], '*')\n",
        "  path = glob.glob(path)\n",
        "  temp=[]\n",
        "  img = imread(path[0])\n",
        "  dimensions.append(img.shape)\n",
        "# Extract unique values with set function\n",
        "unique_dimensions = set(dimensions)\n",
        "print(\"Total images : \" +  str(len(dimensions)))\n",
        "print(\"Image dimensions in training set : {}\".format(unique_dimensions))"
      ]
    },
    {
      "cell_type": "markdown",
      "metadata": {
        "id": "yGFnel8Qs-VB"
      },
      "source": [
        "### Conclusion\n",
        "\n",
        "We have 663 images and possible widths are : 120 & 360, whereas possible heights are : 160 & 360."
      ]
    },
    {
      "cell_type": "markdown",
      "metadata": {
        "id": "n8PJDb3UuWrW"
      },
      "source": [
        "## Generator\n",
        "This is one of the most important part of the code. The overall structure of the generator has been given. In the generator, you are going to preprocess the images as you have images of 2 different dimensions as well as create a batch of video frames. You have to experiment with `img_idx`, `y`,`z` and normalization such that you get high accuracy."
      ]
    },
    {
      "cell_type": "code",
      "execution_count": null,
      "metadata": {
        "id": "JqqKrR7yuWrW"
      },
      "outputs": [],
      "source": [
        "IMG_WIDTH = 120\n",
        "IMG_HEIGHT = 120\n",
        "CHANNELS = 3\n",
        "\n",
        "def generator(source_path, folder_list, batch_size):\n",
        "    print( 'Source path = ', source_path, '; batch size =', batch_size)\n",
        "    img_idx = list(range(0,30,2))#create a list of image numbers you want to use for a particular video\n",
        "    print(len(img_idx))\n",
        "    orig_batch_size = batch_size\n",
        "    while True:\n",
        "        #print('still running')\n",
        "        t = np.random.permutation(folder_list)\n",
        "        batch_size = orig_batch_size\n",
        "        if(len(folder_list)%batch_size)==0:\n",
        "            num_batches = int(len(folder_list)/batch_size)# calculate the number of batches\n",
        "        else:\n",
        "            num_batches = int((len(folder_list)//batch_size) + 1)# calculate the number of batches\n",
        "        #print('len(folder_list)',len(folder_list))\n",
        "        #print('num_batches calculated',num_batches)\n",
        "        for batch in range(num_batches): # we iterate over the number of batches\n",
        "            #print('starting batch',batch,'of ',num_batches)\n",
        "            if(batch==num_batches-1) and (len(folder_list)%batch_size)!=0:\n",
        "                batch_size =  int(len(folder_list)%batch_size)\n",
        "                print('for final batch, size is ',batch_size)\n",
        "            batch_data = np.zeros((batch_size,len(img_idx),IMG_WIDTH,IMG_HEIGHT,CHANNELS)) # x is the number of images you use for each video, (y,z) is the final size of the input images and 3 is the number of channels RGB\n",
        "            batch_labels = np.zeros((batch_size,5)) # batch_labels is the one hot representation of the output\n",
        "            #act_batch_data = np.zeros((batch_size,len(img_idx),100352))\n",
        "            for folder in range(batch_size): # iterate over the batch_size\n",
        "                imgs = os.listdir(source_path+'/'+ t[folder + (batch*batch_size)].split(';')[0]) # read all the images in the folder\n",
        "                for idx,item in enumerate(img_idx): #  Iterate iver the frames/images of a folder to read them in\n",
        "                    #print('img_idx',img_idx)\n",
        "                    image = imread(source_path+'/'+ t[folder + (batch*batch_size)].strip().split(';')[0]+'/'+imgs[item])\n",
        "                    #print('read image')\n",
        "                    image = resize(image, (IMG_WIDTH, IMG_HEIGHT))\n",
        "                    batch_data[folder,idx,:,:,0] = (image[:,:,0] - np.mean(image[:,:,0]))/np.std(image[:,:,0])\n",
        "                    batch_data[folder,idx,:,:,1] = (image[:,:,1] - np.mean(image[:,:,1]))/np.std(image[:,:,1])\n",
        "                    batch_data[folder,idx,:,:,2] = (image[:,:,2] - np.mean(image[:,:,2]))/np.std(image[:,:,2])\n",
        "\n",
        "                batch_labels[folder, int(t[folder + (batch*batch_size)].strip().split(';')[2])] = 1\n",
        "\n",
        "                #act_batch_data[folder] = model.predict(batch_data[folder])\n",
        "            #print('yielding batch now')\n",
        "            yield batch_data, batch_labels #you yield the batch_data and the batch_labels, remember what does yield do\n",
        "\n",
        "\n",
        "        # write the code for the remaining data points which are left after full batches"
      ]
    },
    {
      "cell_type": "markdown",
      "metadata": {
        "id": "avkhxVEduWrW"
      },
      "source": [
        "Note here that a video is represented above in the generator as (number of images, height, width, number of channels). Take this into consideration while creating the model architecture."
      ]
    },
    {
      "cell_type": "code",
      "execution_count": null,
      "metadata": {
        "id": "HIQQSRnUuWrW"
      },
      "outputs": [],
      "source": [
        "curr_dt_time = datetime.datetime.now()\n",
        "train_path = '/content/drive/MyDrive/upgrad/neural_data/project_data/train'\n",
        "val_path = '/content/drive/MyDrive/upgrad/neural_data/project_data/val'\n",
        "num_train_sequences = len(train_doc)\n",
        "print('# training sequences =', num_train_sequences)\n",
        "num_val_sequences = len(val_doc)\n",
        "print('# validation sequences =', num_val_sequences)\n",
        "num_epochs = 10 # choose the number of epochs\n",
        "print ('# epochs =', num_epochs)\n",
        "\n",
        "num_classes = 5\n",
        "print('# classes =', num_classes)"
      ]
    },
    {
      "cell_type": "markdown",
      "metadata": {
        "id": "okBu1Z46uWrW"
      },
      "source": [
        "## Model\n",
        "Here you make the model using different functionalities that Keras provides. Remember to use `Conv3D` and `MaxPooling3D` and not `Conv2D` and `Maxpooling2D` for a 3D convolution model. You would want to use `TimeDistributed` while building a Conv2D + RNN model. Also remember that the last layer is the softmax. Design the network in such a way that the model is able to give good accuracy on the least number of parameters so that it can fit in the memory of the webcam."
      ]
    },
    {
      "cell_type": "code",
      "execution_count": null,
      "metadata": {
        "id": "9jGz_H0WuWrW"
      },
      "outputs": [],
      "source": [
        "from keras.models import Sequential, Model\n",
        "from keras.layers import Dense, GRU, Flatten, TimeDistributed, Flatten, BatchNormalization, Activation, Input, Dropout\n",
        "from keras.layers import Conv3D, MaxPooling3D\n",
        "from keras.callbacks import ModelCheckpoint, ReduceLROnPlateau\n",
        "from keras import optimizers, applications\n",
        "\n",
        "#write your model here\n",
        "STEPS = 15\n",
        "inputs = Input(shape=(STEPS,IMG_WIDTH,IMG_HEIGHT,CHANNELS),name='input')\n",
        "output_1 = TimeDistributed(keras.applications.vgg16.VGG16(weights='imagenet',include_top=False,input_shape=(IMG_WIDTH,IMG_HEIGHT,CHANNELS)),name='Vgg16TimeDistribution')(inputs)\n",
        "output_2 = TimeDistributed(Flatten())(output_1)\n",
        "output_3 = GRU(500,return_sequences=False)(output_2)\n",
        "predictions = Dense(5, activation='softmax')(output_3)\n",
        "\n",
        "model = Model([inputs],predictions)\n",
        "model.summary()\n",
        "\n",
        "\n",
        "\n",
        "\n",
        "\n",
        "\n",
        "\n",
        "\n",
        "\n",
        "\n",
        "\n"
      ]
    },
    {
      "cell_type": "markdown",
      "metadata": {
        "id": "wF44kVr7uWrX"
      },
      "source": [
        "Now that you have written the model, the next step is to `compile` the model. When you print the `summary` of the model, you'll see the total number of parameters you have to train."
      ]
    },
    {
      "cell_type": "code",
      "execution_count": null,
      "metadata": {
        "id": "13Ttg6zqwcrG"
      },
      "outputs": [],
      "source": [
        "for layer in model.layers:\n",
        "    if layer.name == 'Vgg16TimeDistribution':\n",
        "        layer.trainable = False"
      ]
    },
    {
      "cell_type": "code",
      "execution_count": null,
      "metadata": {
        "id": "4IQypwiquWrX",
        "scrolled": true
      },
      "outputs": [],
      "source": [
        "optimiser = optimizers.Adam()\n",
        "model.compile(optimizer=optimiser, loss='categorical_crossentropy', metrics=['categorical_accuracy'])\n",
        "print (model.summary())"
      ]
    },
    {
      "cell_type": "markdown",
      "metadata": {
        "id": "qOn22CIvuWrX"
      },
      "source": [
        "Let us create the `train_generator` and the `val_generator` which will be used in `.fit_generator`."
      ]
    },
    {
      "cell_type": "code",
      "execution_count": null,
      "metadata": {
        "id": "fhfzV2iOuWrX"
      },
      "outputs": [],
      "source": [
        "train_generator = generator(train_path, train_doc, batch_size)\n",
        "val_generator = generator(val_path, val_doc, batch_size)"
      ]
    },
    {
      "cell_type": "code",
      "execution_count": null,
      "metadata": {
        "id": "I06dvLcquWrX"
      },
      "outputs": [],
      "source": [
        "model_name = 'model_init' + '_' + str(curr_dt_time).replace(' ','').replace(':','_') + '/'\n",
        "\n",
        "if not os.path.exists(model_name):\n",
        "    os.mkdir(model_name)\n",
        "\n",
        "filepath = model_name + 'model-{epoch:05d}-{loss:.5f}-{categorical_accuracy:.5f}-{val_loss:.5f}-{val_categorical_accuracy:.5f}.h5'\n",
        "\n",
        "checkpoint = ModelCheckpoint(filepath, monitor='val_loss', verbose=1, save_best_only=False, save_weights_only=False, mode='auto', period=1)\n",
        "\n",
        "LR = ReduceLROnPlateau(monitor='val_loss', factor=0.2, patience=5, min_lr=0.01)\n",
        "callbacks_list = [checkpoint, LR]"
      ]
    },
    {
      "cell_type": "markdown",
      "metadata": {
        "id": "FgyigLHPuWrX"
      },
      "source": [
        "The `steps_per_epoch` and `validation_steps` are used by `fit_generator` to decide the number of next() calls it need to make."
      ]
    },
    {
      "cell_type": "code",
      "execution_count": null,
      "metadata": {
        "id": "q2uF6X0iuWrX"
      },
      "outputs": [],
      "source": [
        "print('num_train_sequences',len(train_doc))\n",
        "print('num_val_sequences',len(val_doc))\n",
        "print('batch size',batch_size)\n",
        "if (num_train_sequences%batch_size) == 0:\n",
        "    steps_per_epoch = int(num_train_sequences/batch_size)\n",
        "else:\n",
        "    steps_per_epoch = (num_train_sequences//batch_size) + 1\n",
        "\n",
        "if (num_val_sequences%batch_size) == 0:\n",
        "    validation_steps = int(num_val_sequences/batch_size)\n",
        "else:\n",
        "    validation_steps = (num_val_sequences//batch_size) + 1\n",
        "print('steps_per_epoch',steps_per_epoch)\n",
        "print('validation_steps',validation_steps)"
      ]
    },
    {
      "cell_type": "markdown",
      "metadata": {
        "id": "6EMym4wLuWrX"
      },
      "source": [
        "Let us now fit the model. This will start training the model and with the help of the checkpoints, you'll be able to save the model at the end of each epoch."
      ]
    },
    {
      "cell_type": "code",
      "execution_count": null,
      "metadata": {
        "id": "1FPMWb-EuWrX"
      },
      "outputs": [],
      "source": [
        "history = model.fit(train_generator, steps_per_epoch=steps_per_epoch, epochs=10, verbose=5,\n",
        "                    callbacks=callbacks_list, validation_data=val_generator,\n",
        "                    validation_steps=validation_steps, class_weight=None, workers=1)"
      ]
    },
    {
      "cell_type": "code",
      "execution_count": null,
      "metadata": {
        "id": "yPKgMn31uWrX"
      },
      "outputs": [],
      "source": [
        "plt.figure()\n",
        "plt.title('Training vs Validation Loss')\n",
        "plt.plot(range(0,10),model.history.history['val_loss'],label='validation_loss')\n",
        "plt.plot(range(0,10),model.history.history['loss'],label='training_loss')\n",
        "plt.legend()\n",
        "plt.show()"
      ]
    },
    {
      "cell_type": "code",
      "source": [
        "plt.figure()\n",
        "plt.title('Training vs Validation Accuracy')\n",
        "plt.plot(range(0,10),model.history.history['val_categorical_accuracy'],label='validation_accuracy')\n",
        "plt.plot(range(0,10),model.history.history['categorical_accuracy'],label='training_accuracy')\n",
        "plt.legend()\n",
        "plt.show()"
      ],
      "metadata": {
        "id": "BGh7C3_sFse6"
      },
      "execution_count": null,
      "outputs": []
    },
    {
      "cell_type": "code",
      "source": [
        "#Model Optimization\n",
        "STEPS = 15\n",
        "inputs = Input(shape=(STEPS,IMG_WIDTH,IMG_HEIGHT,CHANNELS),name='input')\n",
        "output_1 = TimeDistributed(keras.applications.vgg16.VGG16(weights='imagenet',include_top=False,input_shape=(IMG_WIDTH,IMG_HEIGHT,CHANNELS)),name='Vgg16TimeDistribution')(inputs)\n",
        "output_2 = TimeDistributed(keras.layers.Dropout(0.9))(output_1)\n",
        "output_3 = TimeDistributed(keras.layers.BatchNormalization())(output_2)\n",
        "output_4 = TimeDistributed(Flatten())(output_3)\n",
        "output_5 = GRU(300,return_sequences=False)(output_4)\n",
        "predictions = Dense(5, activation='softmax')(output_5)\n",
        "\n",
        "model_2 = Model([inputs],predictions)\n",
        "model_2.summary()"
      ],
      "metadata": {
        "id": "LyiO__LvFscB"
      },
      "execution_count": null,
      "outputs": []
    },
    {
      "cell_type": "code",
      "source": [
        "for layer in model_2.layers:\n",
        "    if layer.name == 'Vgg16TimeDistribution':\n",
        "        layer.trainable = False"
      ],
      "metadata": {
        "id": "Wa-RZ7zzFsZE"
      },
      "execution_count": null,
      "outputs": []
    },
    {
      "cell_type": "code",
      "source": [
        "model_2.summary()"
      ],
      "metadata": {
        "id": "_W6a9l3QFsWB"
      },
      "execution_count": null,
      "outputs": []
    },
    {
      "cell_type": "code",
      "source": [
        "optimiser = keras.optimizers.Adam()#write your optimizer\n",
        "model_2.compile(optimizer=optimiser, loss='categorical_crossentropy', metrics=['categorical_accuracy'])"
      ],
      "metadata": {
        "id": "GG90wIP9FsS8"
      },
      "execution_count": null,
      "outputs": []
    },
    {
      "cell_type": "code",
      "source": [
        "model_name = 'model2_init' + '_' + str(curr_dt_time).replace(' ','').replace(':','_') + '/'\n",
        "\n",
        "if not os.path.exists(model_name):\n",
        "    os.mkdir(model_name)\n",
        "\n",
        "filepath = model_name + 'model-{epoch:05d}-{loss:.5f}-{categorical_accuracy:.5f}-{val_loss:.5f}-{val_categorical_accuracy:.5f}.h5'\n",
        "\n",
        "checkpoint = ModelCheckpoint(filepath, monitor='val_loss', verbose=5, save_best_only=True, save_weights_only=True, mode='auto', period=1)\n",
        "\n",
        "LR = ReduceLROnPlateau(monitor='val_loss', factor=0.2,\n",
        "                              patience=2)\n",
        "\n",
        "callbacks_list = [checkpoint, LR]"
      ],
      "metadata": {
        "id": "QGByFN_RFsPr"
      },
      "execution_count": null,
      "outputs": []
    },
    {
      "cell_type": "code",
      "source": [
        "history2 = model_2.fit(train_generator, steps_per_epoch=steps_per_epoch, epochs=10, verbose=5,\n",
        "                    callbacks=callbacks_list, validation_data=val_generator,\n",
        "                    validation_steps=validation_steps, class_weight=None)"
      ],
      "metadata": {
        "id": "T2jDXCZIFr90"
      },
      "execution_count": null,
      "outputs": []
    },
    {
      "cell_type": "code",
      "source": [
        "plt.figure()\n",
        "plt.title('Training vs Validation Loss')\n",
        "plt.plot(range(0,10),model2.history.history['val_loss'],label='validation_loss')\n",
        "plt.plot(range(0,10),model2.history.history['loss'],label='training_loss')\n",
        "plt.legend()\n",
        "plt.show()"
      ],
      "metadata": {
        "id": "gf3jnr7qHWWs"
      },
      "execution_count": null,
      "outputs": []
    },
    {
      "cell_type": "code",
      "source": [
        "plt.figure()\n",
        "plt.title('Training vs Validation Accuracy')\n",
        "plt.plot(range(0,10),model.history.history['val_categorical_accuracy'],label='validation_accuracy')\n",
        "plt.plot(range(0,10),model.history.history['categorical_accuracy'],label='training_accuracy')\n",
        "plt.legend()\n",
        "plt.show()"
      ],
      "metadata": {
        "id": "HDNQ1rV7HWTc"
      },
      "execution_count": null,
      "outputs": []
    },
    {
      "cell_type": "code",
      "source": [
        "#Model Optimization\n",
        "STEPS = 15\n",
        "inputs = Input(shape=(STEPS,IMG_WIDTH,IMG_HEIGHT,CHANNELS),name='input')\n",
        "#input_1 = keras.layers.Dropout(0.2)(inputs)\n",
        "output_1 = TimeDistributed(keras.applications.vgg16.VGG16(weights='imagenet',include_top=False,input_shape=(IMG_WIDTH,IMG_HEIGHT,CHANNELS)),name='Vgg16TimeDistribution')(inputs)\n",
        "output_2 = TimeDistributed(keras.layers.Dropout(0.8))(output_1)\n",
        "output_3 = TimeDistributed(keras.layers.BatchNormalization())(output_2)\n",
        "output_4 = TimeDistributed(Flatten())(output_3)\n",
        "output_5 = GRU(100,return_sequences=False)(output_4)\n",
        "output_6 = keras.layers.Dropout(0.8)(output_5)\n",
        "output_7 = keras.layers.BatchNormalization()(output_6)\n",
        "predictions = Dense(5, activation='softmax')(output_7)\n",
        "\n",
        "model_3 = Model([inputs],predictions)\n",
        "model_3.summary()"
      ],
      "metadata": {
        "id": "k_p00QuFHWQF"
      },
      "execution_count": null,
      "outputs": []
    },
    {
      "cell_type": "code",
      "source": [
        "for layer in model_3.layers:\n",
        "    if layer.name == 'Vgg16TimeDistribution':\n",
        "        layer.trainable = False"
      ],
      "metadata": {
        "id": "azxPWcVZHWNC"
      },
      "execution_count": null,
      "outputs": []
    },
    {
      "cell_type": "code",
      "source": [
        "model_3.summary()\n"
      ],
      "metadata": {
        "id": "n4VAUGvSHV8i"
      },
      "execution_count": null,
      "outputs": []
    },
    {
      "cell_type": "code",
      "source": [
        "optimiser = keras.optimizers.RMSprop()#write your optimizer\n",
        "model_3.compile(optimizer=optimiser, loss='categorical_crossentropy', metrics=['categorical_accuracy'])"
      ],
      "metadata": {
        "id": "qLQ5bUEFInaD"
      },
      "execution_count": null,
      "outputs": []
    },
    {
      "cell_type": "code",
      "source": [
        "model_name = 'model3_init' + '_' + str(curr_dt_time).replace(' ','').replace(':','_') + '/'\n",
        "\n",
        "if not os.path.exists(model_name):\n",
        "    os.mkdir(model_name)\n",
        "\n",
        "filepath = model_name + 'model-{epoch:05d}-{loss:.5f}-{categorical_accuracy:.5f}-{val_loss:.5f}-{val_categorical_accuracy:.5f}.h5'\n",
        "\n",
        "checkpoint = ModelCheckpoint(filepath, monitor='val_loss', verbose=5, save_best_only=True, save_weights_only=True, mode='auto', period=1)\n",
        "\n",
        "LR = ReduceLROnPlateau(monitor='val_loss', factor=0.2,\n",
        "                              patience=2)\n",
        "\n",
        "callbacks_list = [checkpoint, LR]"
      ],
      "metadata": {
        "id": "Bw4_RdGaInXR"
      },
      "execution_count": null,
      "outputs": []
    },
    {
      "cell_type": "code",
      "source": [
        "model_3.fit(train_generator, steps_per_epoch=steps_per_epoch, epochs=10, verbose=5,\n",
        "                    callbacks=callbacks_list, validation_data=val_generator,\n",
        "                    validation_steps=validation_steps, class_weight=None)"
      ],
      "metadata": {
        "id": "cuEZiD_wInUr"
      },
      "execution_count": null,
      "outputs": []
    },
    {
      "cell_type": "code",
      "source": [
        "#Model Optimization using bidirectional GRU layer\n",
        "STEPS = 15\n",
        "inputs = Input(shape=(STEPS,IMG_WIDTH,IMG_HEIGHT,CHANNELS),name='input')\n",
        "#input_1 = keras.layers.Dropout(0.2)(inputs)\n",
        "output_1 = TimeDistributed(keras.applications.vgg16.VGG16(weights='imagenet',include_top=False,input_shape=(IMG_WIDTH,IMG_HEIGHT,CHANNELS)),name='Vgg16TimeDistribution')(inputs)\n",
        "output_2 = TimeDistributed(keras.layers.Dropout(0.8))(output_1)\n",
        "output_3 = TimeDistributed(keras.layers.BatchNormalization())(output_2)\n",
        "output_4 = TimeDistributed(Flatten())(output_3)\n",
        "output_5 = keras.layers.Bidirectional(GRU(100,return_sequences=False))(output_4)\n",
        "output_6 = keras.layers.Dropout(0.8)(output_5)\n",
        "output_7 = keras.layers.BatchNormalization()(output_6)\n",
        "predictions = Dense(5, activation='softmax')(output_7)\n",
        "\n",
        "model_4 = Model([inputs],predictions)\n",
        "model_4.summary()"
      ],
      "metadata": {
        "id": "l2zjemKUInSG"
      },
      "execution_count": null,
      "outputs": []
    },
    {
      "cell_type": "code",
      "source": [
        "for layer in model_4.layers:\n",
        "    if layer.name == 'Vgg16TimeDistribution':\n",
        "        layer.trainable = False"
      ],
      "metadata": {
        "id": "yiGu22i_InPe"
      },
      "execution_count": null,
      "outputs": []
    },
    {
      "cell_type": "code",
      "source": [
        "model_4.summary()"
      ],
      "metadata": {
        "id": "r3IRWqrCInMv"
      },
      "execution_count": null,
      "outputs": []
    },
    {
      "cell_type": "code",
      "source": [
        "optimiser = keras.optimizers.RMSprop() #write your optimizer\n",
        "model_4.compile(optimizer=optimiser, loss='categorical_crossentropy', metrics=['categorical_accuracy'])"
      ],
      "metadata": {
        "id": "AxIJAoejInKC"
      },
      "execution_count": null,
      "outputs": []
    },
    {
      "cell_type": "code",
      "source": [
        "model_name = 'model4_init' + '_' + str(curr_dt_time).replace(' ','').replace(':','_') + '/'\n",
        "\n",
        "if not os.path.exists(model_name):\n",
        "    os.mkdir(model_name)\n",
        "\n",
        "filepath = model_name + 'model-{epoch:05d}-{loss:.5f}-{categorical_accuracy:.5f}-{val_loss:.5f}-{val_categorical_accuracy:.5f}.h5'\n",
        "\n",
        "checkpoint = ModelCheckpoint(filepath, monitor='val_loss', verbose=5, save_best_only=True, save_weights_only=True, mode='auto', period=1)\n",
        "\n",
        "LR = ReduceLROnPlateau(monitor='val_loss', factor=0.2,\n",
        "                              patience=2)\n",
        "\n",
        "callbacks_list = [checkpoint, LR]"
      ],
      "metadata": {
        "id": "GQrt87lDInHJ"
      },
      "execution_count": null,
      "outputs": []
    },
    {
      "cell_type": "code",
      "source": [
        "model_4.fit(train_generator, steps_per_epoch=steps_per_epoch, epochs=10, verbose=5,\n",
        "                    callbacks=callbacks_list, validation_data=val_generator,\n",
        "                    validation_steps=validation_steps, class_weight=None)"
      ],
      "metadata": {
        "id": "r9IR3VseInEb"
      },
      "execution_count": null,
      "outputs": []
    },
    {
      "cell_type": "markdown",
      "source": [
        "### Trying Conv3D Library to create model"
      ],
      "metadata": {
        "id": "v4aZtRB1KShh"
      }
    },
    {
      "cell_type": "code",
      "source": [
        "train_path = '/content/drive/MyDrive/upgrad/neural_data/project_data/train'\n",
        "val_path = '/content/drive/MyDrive/upgrad/neural_data/project_data/val'\n",
        "num_train_sequences = len(train_doc) #change training data size for initial phase\n",
        "num_val_sequences = len(val_doc) #val training data can be kept as such\n",
        "num_epochs = 30 # choose the number of epochs\n",
        "batch_size = 100 #experiment with the batch size"
      ],
      "metadata": {
        "id": "UXPPbbzWInAv"
      },
      "execution_count": null,
      "outputs": []
    },
    {
      "cell_type": "markdown",
      "source": [
        "### Generators"
      ],
      "metadata": {
        "id": "paBk2lfEK8b7"
      }
    },
    {
      "cell_type": "code",
      "source": [
        "def generator(source_path, folder_list, batch_size):\n",
        "    print( 'Source path = ', source_path, '; batch size =', batch_size)\n",
        "\n",
        "    #note using alternate 15 images here\n",
        "    img_idx = list(range(0,30,2))#create a list of image numbers you want to use for a particular video\n",
        "    #img_idx = list(range(5, 25)) #taking middle frames only\n",
        "    orig_batch_size = batch_size\n",
        "    while True:\n",
        "\n",
        "        t = np.random.permutation(folder_list)\n",
        "        batch_size = orig_batch_size\n",
        "        if(len(folder_list)%batch_size)==0:\n",
        "            num_batches = int(len(folder_list)/batch_size)# calculate the number of batches\n",
        "        else:\n",
        "            num_batches = int((len(folder_list)//batch_size) + 1)# calculate the number of batches\n",
        "\n",
        "        for batch in range(num_batches): # we iterate over the number of batches\n",
        "\n",
        "            if(batch==num_batches-1) and (len(folder_list)%batch_size)!=0:\n",
        "                batch_size =  int(len(folder_list)%batch_size)\n",
        "                #print('for final batch, size is ',batch_size)\n",
        "\n",
        "            batch_data = np.zeros((batch_size,len(img_idx),IMG_WIDTH,IMG_HEIGHT,CHANNELS)) # x is the number of images you use for each video, (y,z) is the final size of the input images and 3 is the number of channels RGB\n",
        "            batch_labels = np.zeros((batch_size,5)) # batch_labels is the one hot representation of the output\n",
        "\n",
        "            #act_batch_data = np.zeros((batch_size,len(img_idx),100352))\n",
        "            for folder in range(batch_size): # iterate over the batch_size\n",
        "                imgs = os.listdir(source_path+'/'+ t[folder + (batch*batch_size)].split(';')[0]) # read all the images in the folder\n",
        "\n",
        "                for idx,item in enumerate(img_idx): #  Iterate iver the frames/images of a folder to read them in\n",
        "                    #print('img_idx',img_idx)\n",
        "                    image = imread(source_path+'/'+ t[folder + (batch*batch_size)].strip().split(';')[0]+'/'+imgs[item])\n",
        "                    #print('read image')\n",
        "                    image = resize(image, (IMG_WIDTH, IMG_HEIGHT))\n",
        "                    #(image[:,:,0] - np.mean(image[:,:,0]))/np.std(image[:,:,0])\n",
        "                    batch_data[folder,idx,:,:,0] = (image[:,:,0] - np.mean(image[:,:,0]))/np.std(image[:,:,0])\n",
        "                    batch_data[folder,idx,:,:,1] = (image[:,:,1] - np.mean(image[:,:,1]))/np.std(image[:,:,1])\n",
        "                    batch_data[folder,idx,:,:,2] = (image[:,:,2] - np.mean(image[:,:,2]))/np.std(image[:,:,2])\n",
        "                    #(image[:,:,2] - np.percentile(image[:,:,2], 5))/(np.percentile(image[:,:,2], 95) - np.percentile(image[:,:,2], 5))\n",
        "\n",
        "                batch_labels[folder, int(t[folder + (batch*batch_size)].strip().split(';')[2])] = 1\n",
        "\n",
        "            yield batch_data, batch_labels #you yield the batch_data and the batch_labels, remember what does yield do"
      ],
      "metadata": {
        "id": "Kd66QN6eIm9A"
      },
      "execution_count": null,
      "outputs": []
    },
    {
      "cell_type": "markdown",
      "source": [
        "### Callbacks"
      ],
      "metadata": {
        "id": "_rc0q9JoL1C1"
      }
    },
    {
      "cell_type": "code",
      "source": [
        "curr_dt_time = datetime.datetime.now()\n",
        "model_name = 'model_init' + '_' + str(curr_dt_time).replace(' ','').replace(':','_') + '/'\n",
        "\n",
        "if not os.path.exists(model_name):\n",
        "    os.mkdir(model_name)\n",
        "\n",
        "filepath = model_name + 'model-{epoch:05d}-{loss:.5f}-{categorical_accuracy:.5f}-{val_loss:.5f}-{val_categorical_accuracy:.5f}.h5'\n",
        "\n",
        "checkpoint = ModelCheckpoint(filepath, monitor='val_loss', verbose=1, save_weights_only=True, mode='auto', period=1)\n",
        "\n",
        "#pateince = after how many epochs the learning rate should be reduced.\n",
        "LR = ReduceLROnPlateau(monitor='val_loss', factor=0.5, patience=4 , cooldown=1, verbose=1)\n",
        "callbacks_list = [LR, checkpoint]"
      ],
      "metadata": {
        "id": "T0geakW4LP_V"
      },
      "execution_count": null,
      "outputs": []
    },
    {
      "cell_type": "markdown",
      "source": [
        "#### Steps per Epoch, Validation steps"
      ],
      "metadata": {
        "id": "Yht26276NYH4"
      }
    },
    {
      "cell_type": "code",
      "source": [
        "print('num_train_sequences',len(train_doc))\n",
        "print('num_val_sequences',len(val_doc))\n",
        "print('batch size',batch_size)\n",
        "if (num_train_sequences%batch_size) == 0:\n",
        "    steps_per_epoch = int(num_train_sequences/batch_size)\n",
        "else:\n",
        "    steps_per_epoch = (num_train_sequences//batch_size) + 1\n",
        "\n",
        "if (num_val_sequences%batch_size) == 0:\n",
        "    validation_steps = int(num_val_sequences/batch_size)\n",
        "else:\n",
        "    validation_steps = (num_val_sequences//batch_size) + 1\n",
        "print('steps_per_epoch',steps_per_epoch)\n",
        "print('validation_steps',validation_steps)"
      ],
      "metadata": {
        "id": "kPYxzGvBLP8T"
      },
      "execution_count": null,
      "outputs": []
    },
    {
      "cell_type": "code",
      "source": [
        "model_conv3d = Sequential()\n",
        "\n",
        "model_conv3d.add(Conv3D(16, kernel_size=(3, 3, 3), activation = 'relu', input_shape = (15, 120, 120, 3), padding='same'))\n",
        "model_conv3d.add(BatchNormalization())\n",
        "model_conv3d.add(MaxPooling3D(pool_size=(2, 2, 2)))\n",
        "\n",
        "model_conv3d.add(Conv3D(32, kernel_size = (3, 3, 3), activation = 'relu', padding='same'))\n",
        "model_conv3d.add(BatchNormalization())\n",
        "model_conv3d.add(MaxPooling3D(pool_size=(1, 2, 2), strides = (1,2,2)))\n",
        "\n",
        "model_conv3d.add(Conv3D(64, kernel_size = (3, 3, 3), activation = 'relu', padding='same'))\n",
        "model_conv3d.add(BatchNormalization())\n",
        "model_conv3d.add(MaxPooling3D(pool_size=(2, 2, 2)))\n",
        "\n",
        "model_conv3d.add(Conv3D(128, kernel_size = (3, 3, 3), activation = 'relu', padding='same'))\n",
        "model_conv3d.add(BatchNormalization())\n",
        "model_conv3d.add(MaxPooling3D(pool_size=(2, 2, 2)))\n",
        "\n",
        "model_conv3d.add(Flatten())\n",
        "model_conv3d.add(Dropout(0.5))\n",
        "model_conv3d.add(Dense(128, activation='relu'))\n",
        "model_conv3d.add(Dropout(0.5))\n",
        "\n",
        "model_conv3d.add(Dense(5, activation = 'softmax'))"
      ],
      "metadata": {
        "id": "rjdTWmjnLP5U"
      },
      "execution_count": null,
      "outputs": []
    },
    {
      "cell_type": "code",
      "source": [
        "model_conv3d.summary()"
      ],
      "metadata": {
        "id": "Poe4aD2jLP2N"
      },
      "execution_count": null,
      "outputs": []
    },
    {
      "cell_type": "code",
      "source": [
        "optimiser = optimizers.Adam()\n",
        "model.compile(optimizer=optimiser, loss='categorical_crossentropy', metrics=['categorical_accuracy'])\n",
        "\n",
        "train_generator = generator(train_path, train_doc, batch_size)\n",
        "val_generator = generator(val_path, val_doc, batch_size)"
      ],
      "metadata": {
        "id": "ji-o2IKYLPzE"
      },
      "execution_count": null,
      "outputs": []
    },
    {
      "cell_type": "code",
      "source": [
        "# Fit the model\n",
        "model.fit(train_generator, steps_per_epoch=steps_per_epoch, epochs=num_epochs, verbose=1,\n",
        "                    callbacks=callbacks_list, validation_data=val_generator,\n",
        "                    validation_steps=validation_steps, class_weight=None, workers=1, initial_epoch=0)\n",
        "\n"
      ],
      "metadata": {
        "id": "ixPUEqgULPwO"
      },
      "execution_count": null,
      "outputs": []
    },
    {
      "cell_type": "markdown",
      "source": [
        "### Summary\n",
        "\n",
        "The CONV3D model achieved higher accuracy on the validation Set with 1 million parameters. This will be our final choice of model."
      ],
      "metadata": {
        "id": "yFrj23fxRtBr"
      }
    },
    {
      "cell_type": "code",
      "source": [],
      "metadata": {
        "id": "G4WJj77rLPtM"
      },
      "execution_count": null,
      "outputs": []
    },
    {
      "cell_type": "code",
      "source": [],
      "metadata": {
        "id": "BVF7Duw5LPp7"
      },
      "execution_count": null,
      "outputs": []
    }
  ],
  "metadata": {
    "accelerator": "GPU",
    "colab": {
      "gpuType": "L4",
      "machine_shape": "hm",
      "provenance": []
    },
    "kernelspec": {
      "display_name": "Python 3",
      "name": "python3"
    },
    "language_info": {
      "codemirror_mode": {
        "name": "ipython",
        "version": 3
      },
      "file_extension": ".py",
      "mimetype": "text/x-python",
      "name": "python",
      "nbconvert_exporter": "python",
      "pygments_lexer": "ipython3",
      "version": "3.6.5"
    }
  },
  "nbformat": 4,
  "nbformat_minor": 0
}